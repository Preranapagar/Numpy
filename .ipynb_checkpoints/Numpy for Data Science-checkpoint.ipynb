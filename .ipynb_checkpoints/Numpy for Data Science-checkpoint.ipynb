{
 "cells": [
  {
   "cell_type": "markdown",
   "id": "7915347c",
   "metadata": {},
   "source": [
    "<img src=\"data:image/png;base64,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\" />"
   ]
  },
  {
   "cell_type": "markdown",
   "id": "532e81dc",
   "metadata": {},
   "source": [
    "NumPy, which stands for Numerical Python, is a powerful numerical computing library in Python. It provides support for large, multi-dimensional arrays and matrices, along with mathematical functions to operate on these arrays. NumPy is a fundamental package for scientific computing with Python"
   ]
  },
  {
   "cell_type": "markdown",
   "id": "5e05b699",
   "metadata": {},
   "source": [
    "## <span style='color:rgb(77, 119, 207)'> Application </span>"
   ]
  },
  {
   "cell_type": "markdown",
   "id": "d84e24c2",
   "metadata": {},
   "source": [
    "<div class=\"alert alert-block alert-info\"> \n",
    "\n",
    "   * Linear Algebra\n",
    "   *Statistics\n",
    "   *Probability\n",
    "   *Trignometry (sin,cos,tan)\n",
    "   *Matrix\n",
    "   *Image Procressing\n",
    "   *Logarithmic </div>"
   ]
  },
  {
   "cell_type": "markdown",
   "id": "3d2d43a6",
   "metadata": {},
   "source": [
    "## <span style='color:rgb(77, 119, 207)'> Import Library</span>"
   ]
  },
  {
   "cell_type": "code",
   "execution_count": 1,
   "id": "a2f25206",
   "metadata": {},
   "outputs": [],
   "source": [
    "import numpy as np"
   ]
  },
  {
   "cell_type": "markdown",
   "id": "d01063d0",
   "metadata": {},
   "source": [
    "<div class=\"alert alert-block alert-info\"> \n",
    "    \n",
    "* It is collection of homegeneous datatypes\n",
    "* ndarray >> n-dimentional array\n",
    "* Numpy is faster than list\n",
    "* Numpy is written in C/C++ language (Partially in Python)\n",
    "* C is faster than Python language\n",
    "* array can be created using tuple/lists </div>"
   ]
  },
  {
   "cell_type": "markdown",
   "id": "2b547f2e",
   "metadata": {},
   "source": [
    "## <span style='color:rgb(77, 119, 207)'> Datatypes Handled by Numpy </span>"
   ]
  },
  {
   "cell_type": "markdown",
   "id": "e321b8b8",
   "metadata": {},
   "source": [
    "<div class ='alert alert-block alert-info'> \n",
    "    \n",
    "1. Integer Types\n",
    "1. Floating-Point Types\n",
    "1. Complex Types\n",
    "1. Boolean Types\n",
    "1. String Types\n",
    "1. Object Types\n",
    "1. Datetime Types\n",
    "1. Timedelta Types\n",
    "1. Void Types\n",
    "</div>"
   ]
  },
  {
   "cell_type": "markdown",
   "id": "2ae24aa8",
   "metadata": {},
   "source": [
    "## <span style = 'color:rgb(77,119,207)'> Datatypes of Array </span>"
   ]
  },
  {
   "cell_type": "markdown",
   "id": "462aba2d",
   "metadata": {},
   "source": [
    "<div class='alert alert-block alert-info'>\n",
    "    \n",
    "1. Int\n",
    "2. Float\n",
    "3. Complex\n",
    "4. Boolean\n",
    "5. String\n",
    "</div>"
   ]
  },
  {
   "cell_type": "code",
   "execution_count": 4,
   "id": "9b857657",
   "metadata": {},
   "outputs": [
    {
     "name": "stdout",
     "output_type": "stream",
     "text": [
      "[1 2 3]\n",
      "<class 'numpy.ndarray'>\n",
      "int32\n"
     ]
    }
   ],
   "source": [
    "arr_int = np.array([1,2,3])\n",
    "print(arr_int)\n",
    "print(type(arr_int))\n",
    "print(arr_int.dtype)"
   ]
  },
  {
   "cell_type": "code",
   "execution_count": 5,
   "id": "fa638bcb",
   "metadata": {},
   "outputs": [
    {
     "name": "stdout",
     "output_type": "stream",
     "text": [
      "[4.5 7.  2.  1.2]\n",
      "<class 'numpy.ndarray'>\n",
      "float64\n"
     ]
    }
   ],
   "source": [
    "float_arr = np.array([4.5,7,2,1.2])\n",
    "print(float_arr)\n",
    "print(type(float_arr))\n",
    "print(float_arr.dtype)"
   ]
  },
  {
   "cell_type": "code",
   "execution_count": 6,
   "id": "80da09f3",
   "metadata": {},
   "outputs": [
    {
     "name": "stdout",
     "output_type": "stream",
     "text": [
      "[4.5+2.j 7. +0.j 2. +0.j 1.2+0.j]\n",
      "<class 'numpy.ndarray'>\n",
      "complex128\n"
     ]
    }
   ],
   "source": [
    "comp_arr = np.array([4.5+2j,7,2,1.2])\n",
    "print(comp_arr)\n",
    "print(type(comp_arr))\n",
    "print(comp_arr.dtype)"
   ]
  },
  {
   "cell_type": "code",
   "execution_count": 7,
   "id": "89570d76",
   "metadata": {},
   "outputs": [
    {
     "name": "stdout",
     "output_type": "stream",
     "text": [
      "[ True False False]\n",
      "<class 'numpy.ndarray'>\n",
      "bool\n"
     ]
    }
   ],
   "source": [
    "bbol_arr = np.array([True, False, False])\n",
    "print(bbol_arr)\n",
    "print(type(bbol_arr))\n",
    "print(bbol_arr.dtype)"
   ]
  },
  {
   "cell_type": "code",
   "execution_count": 8,
   "id": "d50f79ce",
   "metadata": {},
   "outputs": [
    {
     "name": "stdout",
     "output_type": "stream",
     "text": [
      "['Python' 'Jupyter' 'Data']\n",
      "<class 'numpy.ndarray'>\n",
      "<U7\n"
     ]
    }
   ],
   "source": [
    "str_arr = np.array(['Python','Jupyter','Data'])\n",
    "print(str_arr)\n",
    "print(type(str_arr))\n",
    "print(str_arr.dtype)"
   ]
  },
  {
   "cell_type": "markdown",
   "id": "8a72dcdb",
   "metadata": {},
   "source": [
    ">U7 : Indicated unicode string with maximum length 7"
   ]
  },
  {
   "cell_type": "markdown",
   "id": "d19ac6ea",
   "metadata": {},
   "source": [
    "### <span style = 'color:rgb(77,119,207)'>[</span>Change Datatype of Array<span style = 'color:rgb(77,119,207)'>]</span>"
   ]
  },
  {
   "cell_type": "code",
   "execution_count": 9,
   "id": "c940e592",
   "metadata": {},
   "outputs": [
    {
     "data": {
      "text/plain": [
       "array([1, 2, 3, 4, 5])"
      ]
     },
     "execution_count": 9,
     "metadata": {},
     "output_type": "execute_result"
    }
   ],
   "source": [
    "arr1=np.array([1,2,3,4,5])\n",
    "arr1"
   ]
  },
  {
   "cell_type": "code",
   "execution_count": 10,
   "id": "0d5f0a61",
   "metadata": {},
   "outputs": [
    {
     "data": {
      "text/plain": [
       "array([3, 4, 5, 6])"
      ]
     },
     "execution_count": 10,
     "metadata": {},
     "output_type": "execute_result"
    }
   ],
   "source": [
    "arr1=np.array([3,4,5,6],dtype='int')\n",
    "arr1"
   ]
  },
  {
   "cell_type": "code",
   "execution_count": 11,
   "id": "fa532a79",
   "metadata": {},
   "outputs": [
    {
     "data": {
      "text/plain": [
       "array([3., 4., 5., 6.])"
      ]
     },
     "execution_count": 11,
     "metadata": {},
     "output_type": "execute_result"
    }
   ],
   "source": [
    "arr1=np.array([3,4,5,6],dtype='float')\n",
    "arr1"
   ]
  },
  {
   "cell_type": "code",
   "execution_count": 12,
   "id": "9e3e975c",
   "metadata": {},
   "outputs": [
    {
     "data": {
      "text/plain": [
       "array([3.+0.j, 4.+0.j, 5.+0.j, 6.+0.j])"
      ]
     },
     "execution_count": 12,
     "metadata": {},
     "output_type": "execute_result"
    }
   ],
   "source": [
    "arr1=np.array([3,4,5,6],dtype='complex')\n",
    "arr1"
   ]
  },
  {
   "cell_type": "code",
   "execution_count": 13,
   "id": "5eeec28d",
   "metadata": {},
   "outputs": [
    {
     "data": {
      "text/plain": [
       "array([4, 7, 6, 2, 5])"
      ]
     },
     "execution_count": 13,
     "metadata": {},
     "output_type": "execute_result"
    }
   ],
   "source": [
    "arr2=np.array([4.6,7.8,6.5,2.1,5.4],dtype='int')\n",
    "arr2"
   ]
  },
  {
   "cell_type": "code",
   "execution_count": 9,
   "id": "23d63a71",
   "metadata": {},
   "outputs": [
    {
     "data": {
      "text/plain": [
       "array(['4.6', '7.8', '6.5', '2.1', '5.4'], dtype='<U3')"
      ]
     },
     "execution_count": 9,
     "metadata": {},
     "output_type": "execute_result"
    }
   ],
   "source": [
    "arr3=np.array([4.6,7.8,6.5,2.1,5.4],dtype='str')\n",
    "arr3"
   ]
  },
  {
   "cell_type": "code",
   "execution_count": 10,
   "id": "663cc4a6",
   "metadata": {},
   "outputs": [
    {
     "data": {
      "text/plain": [
       "array(['(4+2j)', '5'], dtype='<U6')"
      ]
     },
     "execution_count": 10,
     "metadata": {},
     "output_type": "execute_result"
    }
   ],
   "source": [
    "arr4=np.array([4+2j,5],dtype='str')\n",
    "arr4"
   ]
  },
  {
   "cell_type": "code",
   "execution_count": 12,
   "id": "1dda94a0",
   "metadata": {},
   "outputs": [
    {
     "data": {
      "text/plain": [
       "array([1, 2, 3])"
      ]
     },
     "execution_count": 12,
     "metadata": {},
     "output_type": "execute_result"
    }
   ],
   "source": [
    "arr4=np.array(['1','2','3'],dtype='int')\n",
    "arr4"
   ]
  },
  {
   "cell_type": "markdown",
   "id": "55543161",
   "metadata": {},
   "source": [
    "<div class='alert alert-block alert-info'><b>Data Conversions :</b>\n",
    "    \n",
    "* int >> float\n",
    "*float >> int\n",
    "*int, float >> complex, string\n",
    "*complex !!>> int, float\n",
    "*complex >> string\n",
    "*string >> int, float, complex (conditional)\n",
    "</div>"
   ]
  },
  {
   "cell_type": "markdown",
   "id": "e665d843",
   "metadata": {},
   "source": [
    "## <span style='color:rgb(77,119,207)'> Dimensions of Array </span>"
   ]
  },
  {
   "cell_type": "markdown",
   "id": "86400790",
   "metadata": {},
   "source": [
    "####  <span style = 'color:rgb(77,119,207)'> [</span> 0-D Arrays(Scalars) <span style = 'color:rgb(77,119,207)'>]</span>"
   ]
  },
  {
   "cell_type": "code",
   "execution_count": 13,
   "id": "186781f1",
   "metadata": {},
   "outputs": [
    {
     "name": "stdout",
     "output_type": "stream",
     "text": [
      "100\n",
      "Number of dimensions : 0\n"
     ]
    }
   ],
   "source": [
    "arr0 = np.array(100)\n",
    "print(arr0)\n",
    "print(\"Number of dimensions :\",arr0.ndim)"
   ]
  },
  {
   "cell_type": "code",
   "execution_count": 15,
   "id": "5b05e236",
   "metadata": {},
   "outputs": [
    {
     "name": "stdout",
     "output_type": "stream",
     "text": [
      "100.0\n",
      "Number of dimensions : 0\n"
     ]
    }
   ],
   "source": [
    "arr0 = np.array(100,float)\n",
    "print(arr0)\n",
    "print(\"Number of dimensions :\",arr0.ndim)"
   ]
  },
  {
   "cell_type": "code",
   "execution_count": 16,
   "id": "520b6668",
   "metadata": {},
   "outputs": [
    {
     "name": "stdout",
     "output_type": "stream",
     "text": [
      "100\n",
      "Number of dimensions : 0\n"
     ]
    }
   ],
   "source": [
    "arr0 = np.array(100,str)\n",
    "print(arr0)\n",
    "print(\"Number of dimensions :\",arr0.ndim)"
   ]
  },
  {
   "cell_type": "markdown",
   "id": "f1328b2d",
   "metadata": {},
   "source": [
    "####  <span style = 'color:rgb(77,119,207)'> [</span> 1-D Arrays(Vectors) <span style = 'color:rgb(77,119,207)'>]</span>"
   ]
  },
  {
   "cell_type": "markdown",
   "id": "8073d6af",
   "metadata": {},
   "source": [
    "> It is collection of multiple 0-D arrays"
   ]
  },
  {
   "cell_type": "code",
   "execution_count": 19,
   "id": "e3c771f8",
   "metadata": {},
   "outputs": [
    {
     "name": "stdout",
     "output_type": "stream",
     "text": [
      "[100 200 300]\n",
      "Number of dimensions : 1\n"
     ]
    }
   ],
   "source": [
    "arr1 = np.array([100,200,300])\n",
    "print(arr1)\n",
    "print(\"Number of dimensions :\", arr1.ndim)"
   ]
  },
  {
   "cell_type": "code",
   "execution_count": 20,
   "id": "1bf3404e",
   "metadata": {},
   "outputs": [
    {
     "name": "stdout",
     "output_type": "stream",
     "text": [
      "[100]\n",
      "Number of dimensions : 1\n"
     ]
    }
   ],
   "source": [
    "arr1 = np.array([100])\n",
    "print(arr1)\n",
    "print(\"Number of dimensions :\", arr1.ndim)"
   ]
  },
  {
   "cell_type": "markdown",
   "id": "e1efc336",
   "metadata": {},
   "source": [
    "####  <span style = 'color:rgb(77,119,207)'> [</span> 2-D Arrays(Matrices) <span style = 'color:rgb(77,119,207)'>]</span>"
   ]
  },
  {
   "cell_type": "markdown",
   "id": "5965d2fb",
   "metadata": {},
   "source": [
    "> It is collection of multiple 1-D arrays"
   ]
  },
  {
   "cell_type": "code",
   "execution_count": 22,
   "id": "98cacbce",
   "metadata": {},
   "outputs": [
    {
     "name": "stdout",
     "output_type": "stream",
     "text": [
      "[[100 200]\n",
      " [300 400]]\n",
      "Number of dimensions : 2\n"
     ]
    }
   ],
   "source": [
    "arr2 = np.array([[100,200],[300,400]])\n",
    "print(arr2)\n",
    "print(\"Number of dimensions :\", arr2.ndim)"
   ]
  },
  {
   "cell_type": "code",
   "execution_count": 24,
   "id": "a130dfdd",
   "metadata": {},
   "outputs": [
    {
     "name": "stdout",
     "output_type": "stream",
     "text": [
      "[[100 200]\n",
      " [300 400]\n",
      " [  1   2]]\n",
      "Number of dimensions : 2\n"
     ]
    }
   ],
   "source": [
    "arr2 = np.array([[100,200],[300,400],[1,2]])\n",
    "print(arr2)\n",
    "print(\"Number of dimensions :\", arr2.ndim)"
   ]
  },
  {
   "cell_type": "code",
   "execution_count": 25,
   "id": "9656f3f9",
   "metadata": {},
   "outputs": [
    {
     "name": "stdout",
     "output_type": "stream",
     "text": [
      "[[100 200   1]\n",
      " [300 400   2]]\n",
      "Number of dimensions : 2\n"
     ]
    }
   ],
   "source": [
    "arr2 = np.array([[100,200,1],[300,400,2]])\n",
    "print(arr2)\n",
    "print(\"Number of dimensions :\", arr2.ndim)"
   ]
  },
  {
   "cell_type": "markdown",
   "id": "5bede62c",
   "metadata": {},
   "source": [
    "####  <span style = 'color:rgb(77,119,207)'>[</span> 3-D Arrays <span style = 'color:rgb(77,119,207)'>]</span>"
   ]
  },
  {
   "cell_type": "markdown",
   "id": "ff123658",
   "metadata": {},
   "source": [
    "> It is collection of multiple 2-D array"
   ]
  },
  {
   "cell_type": "code",
   "execution_count": 29,
   "id": "f4ab7b3c",
   "metadata": {},
   "outputs": [
    {
     "name": "stdout",
     "output_type": "stream",
     "text": [
      "[[[1 2 3]\n",
      "  [4 5 6]]]\n",
      "Number of dimensions : 3\n"
     ]
    }
   ],
   "source": [
    "arr3 = np.array([[[1,2,3],[4,5,6]]])\n",
    "print(arr3)\n",
    "print(\"Number of dimensions :\", arr3.ndim)"
   ]
  },
  {
   "cell_type": "code",
   "execution_count": 30,
   "id": "bc867f31",
   "metadata": {},
   "outputs": [
    {
     "data": {
      "text/plain": [
       "1"
      ]
     },
     "execution_count": 30,
     "metadata": {},
     "output_type": "execute_result"
    }
   ],
   "source": [
    "len(arr3)"
   ]
  },
  {
   "cell_type": "code",
   "execution_count": 31,
   "id": "16cb7a1e",
   "metadata": {},
   "outputs": [
    {
     "name": "stdout",
     "output_type": "stream",
     "text": [
      "[[[1 2 3]\n",
      "  [4 5 6]]\n",
      "\n",
      " [[1 2 3]\n",
      "  [4 5 6]]]\n",
      "Number of dimensions : 3\n"
     ]
    }
   ],
   "source": [
    "arr3 = np.array([[[1,2,3],[4,5,6]],[[1,2,3],[4,5,6]]])\n",
    "print(arr3)\n",
    "print(\"Number of dimensions :\", arr3.ndim)"
   ]
  },
  {
   "cell_type": "code",
   "execution_count": 32,
   "id": "26195ef8",
   "metadata": {},
   "outputs": [
    {
     "data": {
      "text/plain": [
       "2"
      ]
     },
     "execution_count": 32,
     "metadata": {},
     "output_type": "execute_result"
    }
   ],
   "source": [
    "len(arr3)"
   ]
  },
  {
   "cell_type": "markdown",
   "id": "a92af93c",
   "metadata": {},
   "source": [
    "## <span style='color:rgb(77,119,207)'> Indexing & Slicing </span>"
   ]
  },
  {
   "cell_type": "code",
   "execution_count": 34,
   "id": "055cb5a1",
   "metadata": {},
   "outputs": [
    {
     "name": "stdout",
     "output_type": "stream",
     "text": [
      "[10 20 30 40 50 60]\n"
     ]
    }
   ],
   "source": [
    "arr = np.array([10,20,30,40,50,60])\n",
    "print(arr)"
   ]
  },
  {
   "cell_type": "code",
   "execution_count": 35,
   "id": "cb688cef",
   "metadata": {},
   "outputs": [
    {
     "data": {
      "text/plain": [
       "10"
      ]
     },
     "execution_count": 35,
     "metadata": {},
     "output_type": "execute_result"
    }
   ],
   "source": [
    "arr[0]"
   ]
  },
  {
   "cell_type": "code",
   "execution_count": 36,
   "id": "2a1a1639",
   "metadata": {},
   "outputs": [
    {
     "data": {
      "text/plain": [
       "60"
      ]
     },
     "execution_count": 36,
     "metadata": {},
     "output_type": "execute_result"
    }
   ],
   "source": [
    "arr[-1]"
   ]
  },
  {
   "cell_type": "code",
   "execution_count": 37,
   "id": "73ebf37b",
   "metadata": {},
   "outputs": [
    {
     "data": {
      "text/plain": [
       "array([30, 40, 50, 60])"
      ]
     },
     "execution_count": 37,
     "metadata": {},
     "output_type": "execute_result"
    }
   ],
   "source": [
    "arr[2:6]"
   ]
  },
  {
   "cell_type": "code",
   "execution_count": 38,
   "id": "def90024",
   "metadata": {},
   "outputs": [
    {
     "name": "stdout",
     "output_type": "stream",
     "text": [
      "[[  2   3   4]\n",
      " [  5   6   7]\n",
      " [ 10  20  30]\n",
      " [100 200 300]]\n"
     ]
    }
   ],
   "source": [
    "array2 = np.array([[2,3,4],[5,6,7],[10,20,30],[100,200,300]])\n",
    "print(array2)"
   ]
  },
  {
   "cell_type": "code",
   "execution_count": 39,
   "id": "03c96ca6",
   "metadata": {},
   "outputs": [
    {
     "data": {
      "text/plain": [
       "array([2, 3, 4])"
      ]
     },
     "execution_count": 39,
     "metadata": {},
     "output_type": "execute_result"
    }
   ],
   "source": [
    "array2[0]"
   ]
  },
  {
   "cell_type": "code",
   "execution_count": 40,
   "id": "a0faafe3",
   "metadata": {},
   "outputs": [
    {
     "data": {
      "text/plain": [
       "6"
      ]
     },
     "execution_count": 40,
     "metadata": {},
     "output_type": "execute_result"
    }
   ],
   "source": [
    "array2[1][1]"
   ]
  },
  {
   "cell_type": "code",
   "execution_count": 45,
   "id": "df8bf0ae",
   "metadata": {},
   "outputs": [
    {
     "data": {
      "text/plain": [
       "array([[2, 3, 4],\n",
       "       [5, 6, 7]])"
      ]
     },
     "execution_count": 45,
     "metadata": {},
     "output_type": "execute_result"
    }
   ],
   "source": [
    "array2[0:2,]"
   ]
  },
  {
   "cell_type": "markdown",
   "id": "983e4a7a",
   "metadata": {},
   "source": [
    "####  <span style = 'color:rgb(77,119,207)'>[</span> Indexing and slicing of 3-D Arrays <span style ='color:rgb(77,119,207)'>]</span>"
   ]
  },
  {
   "cell_type": "code",
   "execution_count": 48,
   "id": "1e194c61",
   "metadata": {},
   "outputs": [
    {
     "name": "stdout",
     "output_type": "stream",
     "text": [
      "[[[ 1  2  3]\n",
      "  [ 4  5  6]]\n",
      "\n",
      " [[ 7  8  9]\n",
      "  [10 11 12]]]\n"
     ]
    }
   ],
   "source": [
    "array3 = np.array([[[1,2,3],[4,5,6]],[[7,8,9],[10,11,12]]])\n",
    "print(array3)"
   ]
  },
  {
   "cell_type": "code",
   "execution_count": 49,
   "id": "fbf14fd7",
   "metadata": {},
   "outputs": [
    {
     "data": {
      "text/plain": [
       "array([[[ 1,  2,  3],\n",
       "        [ 4,  5,  6]],\n",
       "\n",
       "       [[ 7,  8,  9],\n",
       "        [10, 11, 12]]])"
      ]
     },
     "execution_count": 49,
     "metadata": {},
     "output_type": "execute_result"
    }
   ],
   "source": [
    "array3[:,:,:]"
   ]
  },
  {
   "cell_type": "code",
   "execution_count": 52,
   "id": "17a28c5f",
   "metadata": {},
   "outputs": [
    {
     "data": {
      "text/plain": [
       "array([[5]])"
      ]
     },
     "execution_count": 52,
     "metadata": {},
     "output_type": "execute_result"
    }
   ],
   "source": [
    "array3[0,1:2,1:2]"
   ]
  },
  {
   "cell_type": "code",
   "execution_count": 53,
   "id": "90f31ecd",
   "metadata": {},
   "outputs": [
    {
     "data": {
      "text/plain": [
       "(2, 2, 3)"
      ]
     },
     "execution_count": 53,
     "metadata": {},
     "output_type": "execute_result"
    }
   ],
   "source": [
    "array3.shape"
   ]
  },
  {
   "cell_type": "markdown",
   "id": "ff2076ac",
   "metadata": {},
   "source": [
    "## <span style='color:rgb(77,119,207)'> Changing Dimensions </span>"
   ]
  },
  {
   "cell_type": "markdown",
   "id": "214f77c6",
   "metadata": {},
   "source": [
    "####  <span style = 'color:rgb(77,119,207)'>[</span> Convert to n-D array <span style ='color:rgb(77,119,207)'>]</span>"
   ]
  },
  {
   "cell_type": "code",
   "execution_count": 15,
   "id": "b2b318e8",
   "metadata": {},
   "outputs": [
    {
     "name": "stdout",
     "output_type": "stream",
     "text": [
      "Array : 0\n",
      "Dimension of array : 0\n",
      "Array after changing dimension : [0]\n",
      "Dimension of array : 1\n"
     ]
    }
   ],
   "source": [
    "#case-1 : Convertion 0D array to 1D\n",
    "arr1 = np.array(0)\n",
    "print(\"Array :\",arr1)\n",
    "print(\"Dimension of array :\", arr1.ndim)\n",
    "arr1 = np.array(0,ndmin=1)\n",
    "print(\"Array after changing dimension :\",arr1)\n",
    "print(\"Dimension of array :\", arr1.ndim)"
   ]
  },
  {
   "cell_type": "code",
   "execution_count": 7,
   "id": "307e0eb6",
   "metadata": {},
   "outputs": [
    {
     "name": "stdout",
     "output_type": "stream",
     "text": [
      "Array : [0 1 2 3 4 5]\n",
      "Dimension of array : 1\n",
      "Array after changing dimension : [[0 1 2 3 4 5]]\n",
      "Dimension of array : 2\n"
     ]
    }
   ],
   "source": [
    "#case-2 : Convertion 1D array to 2D\n",
    "arr1 = np.array([0,1,2,3,4,5])\n",
    "print(\"Array :\",arr1)\n",
    "print(\"Dimension of array :\", arr1.ndim)\n",
    "arr1 = np.array([0,1,2,3,4,5],ndmin=2)\n",
    "print(\"Array after changing dimension :\",arr1)\n",
    "print(\"Dimension of array :\", arr1.ndim)"
   ]
  },
  {
   "cell_type": "code",
   "execution_count": 8,
   "id": "6ef0d705",
   "metadata": {},
   "outputs": [
    {
     "name": "stdout",
     "output_type": "stream",
     "text": [
      "Array : [[2 3 4]]\n",
      "Dimension of array : 2\n",
      "Array after changing dimension : [[[2 3 4]]]\n",
      "Dimension of array : 3\n"
     ]
    }
   ],
   "source": [
    "#case-3 : Convertion 2D array to 3D\n",
    "arr2 = np.array([[2,3,4]])\n",
    "print(\"Array :\",arr2)\n",
    "print(\"Dimension of array :\", arr2.ndim)\n",
    "arr2 = np.array([[2,3,4]],ndmin=3)\n",
    "print(\"Array after changing dimension :\",arr2)\n",
    "print(\"Dimension of array :\", arr2.ndim)"
   ]
  },
  {
   "cell_type": "code",
   "execution_count": 20,
   "id": "45b7abdf",
   "metadata": {},
   "outputs": [
    {
     "name": "stdout",
     "output_type": "stream",
     "text": [
      "Array : [[[2 3 4]\n",
      "  [5 6 7]]]\n",
      "Dimension of array : 3\n",
      "Array after changing dimension : [[[2 3 4]\n",
      "  [5 6 7]]]\n",
      "Dimension of array : 3\n"
     ]
    }
   ],
   "source": [
    "#case-4 : Convertion 3D array to 2D\n",
    "arr2 = np.array([[[2,3,4],[5,6,7]]])\n",
    "print(\"Array :\",arr2)\n",
    "print(\"Dimension of array :\", arr2.ndim)\n",
    "arr2 = np.array([[[2,3,4],[5,6,7]]],ndmin=2)\n",
    "print(\"Array after changing dimension :\",arr2)\n",
    "print(\"Dimension of array :\", arr2.ndim)"
   ]
  },
  {
   "cell_type": "markdown",
   "id": "d5d4ccfa",
   "metadata": {},
   "source": [
    "> In case-4 we can see that we can't change array form upper dimension to lower dimension For that we can use below methods"
   ]
  },
  {
   "cell_type": "markdown",
   "id": "05267935",
   "metadata": {},
   "source": [
    "####  <span style = 'color:rgb(77,119,207)'>[</span> Flatten Array <span style ='color:rgb(77,119,207)'>]</span>  or  <span style = 'color:rgb(77,119,207)'>[</span> Ravel Array <span style ='color:rgb(77,119,207)'>]</span>"
   ]
  },
  {
   "cell_type": "markdown",
   "id": "6045911b",
   "metadata": {},
   "source": [
    "<div class='alert alert-block alert-info'>\n",
    "These methods are used to convert n-D array to 1-D\n",
    "</div>"
   ]
  },
  {
   "cell_type": "code",
   "execution_count": 27,
   "id": "822d2bbb",
   "metadata": {},
   "outputs": [
    {
     "name": "stdout",
     "output_type": "stream",
     "text": [
      "Array :\n",
      " [[2 4]\n",
      " [5 6]]\n",
      "Dimension of Array : 2\n",
      "Array :\n",
      " [2 4 5 6]\n",
      "Dimension of Array : 1\n"
     ]
    }
   ],
   "source": [
    "#case-1 : convert 2d array to 1d\n",
    "array = np.array([[2,4],[5,6]])\n",
    "print(\"Array :\\n\", array)\n",
    "print(\"Dimension of Array :\", array.ndim)\n",
    "\n",
    "array2 = array.flatten()\n",
    "print(\"Array :\\n\", array2)\n",
    "print(\"Dimension of Array :\", array2.ndim)"
   ]
  },
  {
   "cell_type": "code",
   "execution_count": 25,
   "id": "0b8d6d6f",
   "metadata": {},
   "outputs": [
    {
     "name": "stdout",
     "output_type": "stream",
     "text": [
      "Array :\n",
      " [[[2 4 6]\n",
      "  [5 6 3]\n",
      "  [8 9 3]]]\n",
      "Dimension of Array : 3\n",
      "Array : [2 4 6 5 6 3 8 9 3]\n",
      "Dimension of Array : 1\n"
     ]
    }
   ],
   "source": [
    "#case-2 : convert 3d array to 1d\n",
    "array = np.array([[[2,4,6],[5,6,3],[8,9,3]]])\n",
    "print(\"Array :\\n\", array)\n",
    "print(\"Dimension of Array :\", array.ndim)\n",
    "\n",
    "array2 = array.flatten()\n",
    "print(\"Array :\", array2)\n",
    "print(\"Dimension of Array :\", array2.ndim)"
   ]
  },
  {
   "cell_type": "code",
   "execution_count": 29,
   "id": "c57517ef",
   "metadata": {},
   "outputs": [
    {
     "name": "stdout",
     "output_type": "stream",
     "text": [
      "Array :\n",
      " [[2 4 6]\n",
      " [5 6 3]\n",
      " [8 9 3]]\n",
      "Dimension of Array : 2\n",
      "Array : [2 4 6 5 6 3 8 9 3]\n",
      "Dimension of Array : 1\n"
     ]
    }
   ],
   "source": [
    "#case-3 : convert 2d array to 1d\n",
    "array = np.array([[2,4,6],[5,6,3],[8,9,3]])\n",
    "print(\"Array :\\n\", array)\n",
    "print(\"Dimension of Array :\", array.ndim)\n",
    "\n",
    "array2 = array.ravel()\n",
    "print(\"Array :\", array2)\n",
    "print(\"Dimension of Array :\", array2.ndim)"
   ]
  },
  {
   "cell_type": "markdown",
   "id": "ee6cd573",
   "metadata": {},
   "source": [
    "####  <span style = 'color:rgb(77,119,207)'>[</span> Reshape <span style ='color:rgb(77,119,207)'>]</span>"
   ]
  },
  {
   "cell_type": "markdown",
   "id": "d6549707",
   "metadata": {},
   "source": [
    "<div class='alert alert-block alert-info'>\n",
    "This method is used to change shape of array\n",
    "</div>"
   ]
  },
  {
   "cell_type": "code",
   "execution_count": 32,
   "id": "c361da85",
   "metadata": {},
   "outputs": [
    {
     "name": "stdout",
     "output_type": "stream",
     "text": [
      "[[1]]\n",
      "(1, 1)\n"
     ]
    }
   ],
   "source": [
    "arr = np.array([1],ndmin=2)\n",
    "print(arr)\n",
    "print(arr.shape)"
   ]
  },
  {
   "cell_type": "code",
   "execution_count": 34,
   "id": "70e7a20c",
   "metadata": {},
   "outputs": [
    {
     "name": "stdout",
     "output_type": "stream",
     "text": [
      "[[[2 3 4]\n",
      "  [4 5 6]]\n",
      "\n",
      " [[1 2 3]\n",
      "  [4 5 6]]]\n",
      "(2, 2, 3)\n"
     ]
    }
   ],
   "source": [
    "arrr = np.array([[[2,3,4],[4,5,6]],[[1,2,3],[4,5,6]]])\n",
    "print(arrr)\n",
    "print(arrr.shape)"
   ]
  },
  {
   "cell_type": "code",
   "execution_count": 36,
   "id": "2c116b20",
   "metadata": {},
   "outputs": [
    {
     "data": {
      "text/plain": [
       "array([[2, 3, 4],\n",
       "       [4, 5, 6],\n",
       "       [1, 2, 3],\n",
       "       [4, 5, 6]])"
      ]
     },
     "execution_count": 36,
     "metadata": {},
     "output_type": "execute_result"
    }
   ],
   "source": [
    "arrr.reshape(4,3)"
   ]
  },
  {
   "cell_type": "code",
   "execution_count": 37,
   "id": "64ff64c1",
   "metadata": {},
   "outputs": [
    {
     "data": {
      "text/plain": [
       "array([[[2, 3],\n",
       "        [4, 4]],\n",
       "\n",
       "       [[5, 6],\n",
       "        [1, 2]],\n",
       "\n",
       "       [[3, 4],\n",
       "        [5, 6]]])"
      ]
     },
     "execution_count": 37,
     "metadata": {},
     "output_type": "execute_result"
    }
   ],
   "source": [
    "arrr.reshape(3,2,2)"
   ]
  },
  {
   "cell_type": "code",
   "execution_count": 38,
   "id": "5104c39a",
   "metadata": {},
   "outputs": [
    {
     "name": "stdout",
     "output_type": "stream",
     "text": [
      "array : [  2   3   4   5  10  20  30  40 100 200 300 400]\n",
      "Number of dimesions of an array : 1\n"
     ]
    },
    {
     "data": {
      "text/plain": [
       "array([[[  2,   3,   4],\n",
       "        [  5,  10,  20]],\n",
       "\n",
       "       [[ 30,  40, 100],\n",
       "        [200, 300, 400]]])"
      ]
     },
     "execution_count": 38,
     "metadata": {},
     "output_type": "execute_result"
    }
   ],
   "source": [
    "array = np.array([2,3,4,5,10,20,30,40,100,200,300,400],ndmin = 1)\n",
    "print('array :',array)\n",
    "print(\"Number of dimesions of an array :\",array.ndim)\n",
    "\n",
    "array.reshape(2,2,3)"
   ]
  },
  {
   "cell_type": "markdown",
   "id": "34e950c8",
   "metadata": {},
   "source": [
    "## <span style='color:rgb(77,119,207)'> Accessing array elements using loop </span>"
   ]
  },
  {
   "cell_type": "markdown",
   "id": "027b96e9",
   "metadata": {},
   "source": [
    "####  <span style = 'color:rgb(77,119,207)'>[</span> For loop <span style ='color:rgb(77,119,207)'>]</span>"
   ]
  },
  {
   "cell_type": "code",
   "execution_count": 40,
   "id": "1a4b7b5d",
   "metadata": {},
   "outputs": [
    {
     "name": "stdout",
     "output_type": "stream",
     "text": [
      "[[[  2   3   4]\n",
      "  [  5  10  20]]\n",
      "\n",
      " [[ 30  40 100]\n",
      "  [200 300 400]]]\n"
     ]
    }
   ],
   "source": [
    "array2 = array.reshape(2,2,3)\n",
    "print(array2)"
   ]
  },
  {
   "cell_type": "code",
   "execution_count": 41,
   "id": "5621e348",
   "metadata": {},
   "outputs": [
    {
     "name": "stdout",
     "output_type": "stream",
     "text": [
      "[[ 2  3  4]\n",
      " [ 5 10 20]]\n",
      "[[ 30  40 100]\n",
      " [200 300 400]]\n"
     ]
    }
   ],
   "source": [
    "for i in array2:\n",
    "    print(i)"
   ]
  },
  {
   "cell_type": "code",
   "execution_count": 42,
   "id": "185f97fd",
   "metadata": {},
   "outputs": [
    {
     "name": "stdout",
     "output_type": "stream",
     "text": [
      "[2 3 4]\n",
      "[ 5 10 20]\n",
      "[ 30  40 100]\n",
      "[200 300 400]\n"
     ]
    }
   ],
   "source": [
    "for i in array2:\n",
    "    for j in i:\n",
    "        print(j)"
   ]
  },
  {
   "cell_type": "code",
   "execution_count": 43,
   "id": "1510802d",
   "metadata": {},
   "outputs": [
    {
     "name": "stdout",
     "output_type": "stream",
     "text": [
      "2\n",
      "3\n",
      "4\n",
      "5\n",
      "10\n",
      "20\n",
      "30\n",
      "40\n",
      "100\n",
      "200\n",
      "300\n",
      "400\n"
     ]
    }
   ],
   "source": [
    "for i in array2:\n",
    "    for j in i:\n",
    "        for k in j:\n",
    "            print(k)"
   ]
  },
  {
   "cell_type": "markdown",
   "id": "065a6ff5",
   "metadata": {},
   "source": [
    "####  <span style = 'color:rgb(77,119,207)'>[</span> np.nditer() <span style ='color:rgb(77,119,207)'>]</span>"
   ]
  },
  {
   "cell_type": "code",
   "execution_count": 44,
   "id": "1cb4b4e8",
   "metadata": {},
   "outputs": [
    {
     "name": "stdout",
     "output_type": "stream",
     "text": [
      "2\n",
      "3\n",
      "4\n",
      "5\n",
      "10\n",
      "20\n",
      "30\n",
      "40\n",
      "100\n",
      "200\n",
      "300\n",
      "400\n"
     ]
    }
   ],
   "source": [
    "for i in np.nditer(array2):\n",
    "    print(i)"
   ]
  },
  {
   "cell_type": "markdown",
   "id": "fd70a515",
   "metadata": {},
   "source": [
    "####  <span style = 'color:rgb(77,119,207)'>[</span> np.ndenumerate() <span style ='color:rgb(77,119,207)'>]</span>"
   ]
  },
  {
   "cell_type": "code",
   "execution_count": 47,
   "id": "cfc7ae4d",
   "metadata": {},
   "outputs": [
    {
     "name": "stdout",
     "output_type": "stream",
     "text": [
      "(0, 0, 0) 2\n",
      "(0, 0, 1) 3\n",
      "(0, 0, 2) 4\n",
      "(0, 1, 0) 5\n",
      "(0, 1, 1) 10\n",
      "(0, 1, 2) 20\n",
      "(1, 0, 0) 30\n",
      "(1, 0, 1) 40\n",
      "(1, 0, 2) 100\n",
      "(1, 1, 0) 200\n",
      "(1, 1, 1) 300\n",
      "(1, 1, 2) 400\n"
     ]
    }
   ],
   "source": [
    "for index, value in np.ndenumerate(array2):\n",
    "    print(index,value)"
   ]
  },
  {
   "cell_type": "markdown",
   "id": "324b7131",
   "metadata": {},
   "source": [
    "## <span style='color:rgb(77,119,207)'> Functions </span>"
   ]
  },
  {
   "cell_type": "markdown",
   "id": "94884460",
   "metadata": {},
   "source": [
    "####  <span style = 'color:rgb(77,119,207)'>[</span> np.zeros()<span style ='color:rgb(77,119,207)'>]</span>"
   ]
  },
  {
   "cell_type": "markdown",
   "id": "5b15c616",
   "metadata": {},
   "source": [
    "<div class='alert alert-block alert-info'>\n",
    "np.zeros(shape, dtype = default float)\n",
    "    \n",
    "- Return an array of zero value\n",
    "- Weight Initialization\n",
    "- Target column creation\n",
    "</div>"
   ]
  },
  {
   "cell_type": "code",
   "execution_count": 48,
   "id": "ce57e632",
   "metadata": {},
   "outputs": [
    {
     "data": {
      "text/plain": [
       "array([0., 0., 0., 0., 0.])"
      ]
     },
     "execution_count": 48,
     "metadata": {},
     "output_type": "execute_result"
    }
   ],
   "source": [
    "arr1 = np.zeros(5)\n",
    "arr1"
   ]
  },
  {
   "cell_type": "code",
   "execution_count": 49,
   "id": "dcc43fd6",
   "metadata": {},
   "outputs": [
    {
     "data": {
      "text/plain": [
       "array([0, 0, 0, 0, 0])"
      ]
     },
     "execution_count": 49,
     "metadata": {},
     "output_type": "execute_result"
    }
   ],
   "source": [
    "arr1 = np.zeros(5,dtype=int)\n",
    "arr1"
   ]
  },
  {
   "cell_type": "code",
   "execution_count": 50,
   "id": "0d9322e7",
   "metadata": {},
   "outputs": [
    {
     "data": {
      "text/plain": [
       "array([[0, 0, 0, 0, 0],\n",
       "       [0, 0, 0, 0, 0],\n",
       "       [0, 0, 0, 0, 0],\n",
       "       [0, 0, 0, 0, 0]])"
      ]
     },
     "execution_count": 50,
     "metadata": {},
     "output_type": "execute_result"
    }
   ],
   "source": [
    "arr1 = np.zeros((4,5),dtype=int)\n",
    "arr1"
   ]
  },
  {
   "cell_type": "code",
   "execution_count": 51,
   "id": "96366eb2",
   "metadata": {},
   "outputs": [
    {
     "data": {
      "text/plain": [
       "array([[[0, 0, 0, 0, 0],\n",
       "        [0, 0, 0, 0, 0],\n",
       "        [0, 0, 0, 0, 0],\n",
       "        [0, 0, 0, 0, 0]],\n",
       "\n",
       "       [[0, 0, 0, 0, 0],\n",
       "        [0, 0, 0, 0, 0],\n",
       "        [0, 0, 0, 0, 0],\n",
       "        [0, 0, 0, 0, 0]]])"
      ]
     },
     "execution_count": 51,
     "metadata": {},
     "output_type": "execute_result"
    }
   ],
   "source": [
    "arr1 = np.zeros((2,4,5),dtype=int)\n",
    "arr1"
   ]
  },
  {
   "cell_type": "markdown",
   "id": "0c8b6e89",
   "metadata": {},
   "source": [
    "####  <span style = 'color:rgb(77,119,207)'>[</span> np.ones()<span style ='color:rgb(77,119,207)'>]</span>"
   ]
  },
  {
   "cell_type": "markdown",
   "id": "6fe6b57a",
   "metadata": {},
   "source": [
    "<div class='alert alert-block alert-info'>\n",
    "\n",
    "- np.ones(shape, dtype = float)  \n",
    "    \n",
    "- Return an array of one value    \n",
    "</div>"
   ]
  },
  {
   "cell_type": "code",
   "execution_count": 53,
   "id": "b0156de3",
   "metadata": {},
   "outputs": [
    {
     "data": {
      "text/plain": [
       "array([1., 1., 1., 1., 1., 1.])"
      ]
     },
     "execution_count": 53,
     "metadata": {},
     "output_type": "execute_result"
    }
   ],
   "source": [
    "array = np.ones(6)\n",
    "array"
   ]
  },
  {
   "cell_type": "code",
   "execution_count": 54,
   "id": "c336d3b1",
   "metadata": {},
   "outputs": [
    {
     "data": {
      "text/plain": [
       "array([1, 1, 1, 1, 1, 1])"
      ]
     },
     "execution_count": 54,
     "metadata": {},
     "output_type": "execute_result"
    }
   ],
   "source": [
    "array = np.ones(6,dtype=int)\n",
    "array"
   ]
  },
  {
   "cell_type": "code",
   "execution_count": 55,
   "id": "fd2cce7c",
   "metadata": {},
   "outputs": [
    {
     "data": {
      "text/plain": [
       "array([[1, 1],\n",
       "       [1, 1],\n",
       "       [1, 1],\n",
       "       [1, 1]])"
      ]
     },
     "execution_count": 55,
     "metadata": {},
     "output_type": "execute_result"
    }
   ],
   "source": [
    "array = np.ones((4,2),dtype=int)\n",
    "array"
   ]
  },
  {
   "cell_type": "code",
   "execution_count": 56,
   "id": "d05598dc",
   "metadata": {},
   "outputs": [
    {
     "data": {
      "text/plain": [
       "array([[[1, 1],\n",
       "        [1, 1],\n",
       "        [1, 1],\n",
       "        [1, 1]],\n",
       "\n",
       "       [[1, 1],\n",
       "        [1, 1],\n",
       "        [1, 1],\n",
       "        [1, 1]]])"
      ]
     },
     "execution_count": 56,
     "metadata": {},
     "output_type": "execute_result"
    }
   ],
   "source": [
    "array = np.ones((2,4,2),dtype=int)\n",
    "array"
   ]
  },
  {
   "cell_type": "markdown",
   "id": "5ddd7e15",
   "metadata": {},
   "source": [
    "####  <span style = 'color:rgb(77,119,207)'>[</span> np.arange()<span style ='color:rgb(77,119,207)'>]</span>"
   ]
  },
  {
   "cell_type": "code",
   "execution_count": 57,
   "id": "1a114df7",
   "metadata": {},
   "outputs": [
    {
     "data": {
      "text/plain": [
       "array([1, 2, 3, 4])"
      ]
     },
     "execution_count": 57,
     "metadata": {},
     "output_type": "execute_result"
    }
   ],
   "source": [
    "arr = np.arange(1,5)\n",
    "arr"
   ]
  },
  {
   "cell_type": "code",
   "execution_count": 58,
   "id": "a8475a9d",
   "metadata": {},
   "outputs": [
    {
     "data": {
      "text/plain": [
       "array([1, 3, 5, 7, 9])"
      ]
     },
     "execution_count": 58,
     "metadata": {},
     "output_type": "execute_result"
    }
   ],
   "source": [
    "arr = np.arange(1,10,2)\n",
    "arr"
   ]
  },
  {
   "cell_type": "code",
   "execution_count": 60,
   "id": "a6e98f1e",
   "metadata": {},
   "outputs": [
    {
     "data": {
      "text/plain": [
       "array([20, 19, 18, 17, 16, 15, 14, 13, 12, 11])"
      ]
     },
     "execution_count": 60,
     "metadata": {},
     "output_type": "execute_result"
    }
   ],
   "source": [
    "arr = np.arange(20,10,-1)\n",
    "arr"
   ]
  },
  {
   "cell_type": "code",
   "execution_count": 62,
   "id": "de8c3c7d",
   "metadata": {},
   "outputs": [
    {
     "data": {
      "text/plain": [
       "array([-10,  -9,  -8,  -7,  -6,  -5,  -4,  -3,  -2,  -1,   0])"
      ]
     },
     "execution_count": 62,
     "metadata": {},
     "output_type": "execute_result"
    }
   ],
   "source": [
    "arr = np.arange(-10,1)\n",
    "arr"
   ]
  },
  {
   "cell_type": "markdown",
   "id": "df2b1ab6",
   "metadata": {},
   "source": [
    "####  <span style = 'color:rgb(77,119,207)'>[</span> np.linspace()<span style ='color:rgb(77,119,207)'>]</span>"
   ]
  },
  {
   "cell_type": "markdown",
   "id": "5f82ea48",
   "metadata": {},
   "source": [
    "<div class='alert alert-block alert-info'> \n",
    "np.linspace(start,end, num = 50)\n",
    "    \n",
    "Returns evenly spaces values </div>"
   ]
  },
  {
   "cell_type": "code",
   "execution_count": 63,
   "id": "67a54de0",
   "metadata": {},
   "outputs": [
    {
     "data": {
      "text/plain": [
       "array([ 1.   ,  2.125,  3.25 ,  4.375,  5.5  ,  6.625,  7.75 ,  8.875,\n",
       "       10.   ])"
      ]
     },
     "execution_count": 63,
     "metadata": {},
     "output_type": "execute_result"
    }
   ],
   "source": [
    "array = np.linspace(1,10,9)\n",
    "array"
   ]
  },
  {
   "cell_type": "code",
   "execution_count": 64,
   "id": "ceba87cc",
   "metadata": {},
   "outputs": [
    {
     "data": {
      "text/plain": [
       "(9,)"
      ]
     },
     "execution_count": 64,
     "metadata": {},
     "output_type": "execute_result"
    }
   ],
   "source": [
    "array.shape"
   ]
  },
  {
   "cell_type": "code",
   "execution_count": 66,
   "id": "cf2c14aa",
   "metadata": {},
   "outputs": [
    {
     "data": {
      "text/plain": [
       "(array([ 1.   ,  2.125,  3.25 ,  4.375,  5.5  ,  6.625,  7.75 ,  8.875,\n",
       "        10.   ]),\n",
       " 1.125)"
      ]
     },
     "execution_count": 66,
     "metadata": {},
     "output_type": "execute_result"
    }
   ],
   "source": [
    "array = np.linspace(1,10,9,retstep=True)\n",
    "array"
   ]
  },
  {
   "cell_type": "markdown",
   "id": "d77b547e",
   "metadata": {},
   "source": [
    "####  <span style = 'color:rgb(77,119,207)'>[</span> np.eye()<span style ='color:rgb(77,119,207)'>]</span>"
   ]
  },
  {
   "cell_type": "markdown",
   "id": "5cd0c757",
   "metadata": {},
   "source": [
    "<div class= 'alert alert-block alert-info'> \n",
    "It will return an array with ones on diagonal and zeros elsewhere\n",
    "\n",
    "np.eye(shape,dtype)\n",
    "</div>"
   ]
  },
  {
   "cell_type": "code",
   "execution_count": 67,
   "id": "72328ed7",
   "metadata": {},
   "outputs": [
    {
     "data": {
      "text/plain": [
       "array([[1., 0., 0., 0., 0., 0., 0.],\n",
       "       [0., 1., 0., 0., 0., 0., 0.],\n",
       "       [0., 0., 1., 0., 0., 0., 0.],\n",
       "       [0., 0., 0., 1., 0., 0., 0.],\n",
       "       [0., 0., 0., 0., 1., 0., 0.],\n",
       "       [0., 0., 0., 0., 0., 1., 0.],\n",
       "       [0., 0., 0., 0., 0., 0., 1.]])"
      ]
     },
     "execution_count": 67,
     "metadata": {},
     "output_type": "execute_result"
    }
   ],
   "source": [
    "array = np.eye(7)\n",
    "array"
   ]
  },
  {
   "cell_type": "code",
   "execution_count": 69,
   "id": "58979f80",
   "metadata": {},
   "outputs": [
    {
     "data": {
      "text/plain": [
       "array([[1, 0, 0, 0, 0],\n",
       "       [0, 1, 0, 0, 0],\n",
       "       [0, 0, 1, 0, 0],\n",
       "       [0, 0, 0, 1, 0],\n",
       "       [0, 0, 0, 0, 1]])"
      ]
     },
     "execution_count": 69,
     "metadata": {},
     "output_type": "execute_result"
    }
   ],
   "source": [
    "array = np.eye(5,dtype=int)\n",
    "array"
   ]
  },
  {
   "cell_type": "code",
   "execution_count": 70,
   "id": "56140d00",
   "metadata": {},
   "outputs": [
    {
     "data": {
      "text/plain": [
       "array([[1, 0, 0],\n",
       "       [0, 1, 0]])"
      ]
     },
     "execution_count": 70,
     "metadata": {},
     "output_type": "execute_result"
    }
   ],
   "source": [
    "array = np.eye(2,3,dtype=int)\n",
    "array"
   ]
  },
  {
   "cell_type": "markdown",
   "id": "6a8c9725",
   "metadata": {},
   "source": [
    "####  <span style = 'color:rgb(77,119,207)'>[</span> np.identity()<span style ='color:rgb(77,119,207)'>]</span>"
   ]
  },
  {
   "cell_type": "code",
   "execution_count": 71,
   "id": "2498d0d3",
   "metadata": {},
   "outputs": [
    {
     "data": {
      "text/plain": [
       "array([[1., 0., 0., 0., 0., 0., 0.],\n",
       "       [0., 1., 0., 0., 0., 0., 0.],\n",
       "       [0., 0., 1., 0., 0., 0., 0.],\n",
       "       [0., 0., 0., 1., 0., 0., 0.],\n",
       "       [0., 0., 0., 0., 1., 0., 0.],\n",
       "       [0., 0., 0., 0., 0., 1., 0.],\n",
       "       [0., 0., 0., 0., 0., 0., 1.]])"
      ]
     },
     "execution_count": 71,
     "metadata": {},
     "output_type": "execute_result"
    }
   ],
   "source": [
    "array = np.identity(7)\n",
    "array"
   ]
  },
  {
   "cell_type": "code",
   "execution_count": null,
   "id": "c7095c25",
   "metadata": {},
   "outputs": [],
   "source": []
  }
 ],
 "metadata": {
  "kernelspec": {
   "display_name": "Python 3 (ipykernel)",
   "language": "python",
   "name": "python3"
  },
  "language_info": {
   "codemirror_mode": {
    "name": "ipython",
    "version": 3
   },
   "file_extension": ".py",
   "mimetype": "text/x-python",
   "name": "python",
   "nbconvert_exporter": "python",
   "pygments_lexer": "ipython3",
   "version": "3.9.7"
  }
 },
 "nbformat": 4,
 "nbformat_minor": 5
}
