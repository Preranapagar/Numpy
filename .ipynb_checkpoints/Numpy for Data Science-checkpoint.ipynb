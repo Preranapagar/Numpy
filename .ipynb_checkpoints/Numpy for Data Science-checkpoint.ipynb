{
 "cells": [
  {
   "cell_type": "markdown",
   "id": "7915347c",
   "metadata": {},
   "source": [
    "<img src=\"data:image/png;base64,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\" />"
   ]
  },
  {
   "cell_type": "markdown",
   "id": "532e81dc",
   "metadata": {},
   "source": [
    "NumPy, which stands for Numerical Python, is a powerful numerical computing library in Python. It provides support for large, multi-dimensional arrays and matrices, along with mathematical functions to operate on these arrays. NumPy is a fundamental package for scientific computing with Python"
   ]
  },
  {
   "cell_type": "markdown",
   "id": "5e05b699",
   "metadata": {},
   "source": [
    "## <span style='color:rgb(77, 119, 207)'> Application </span>"
   ]
  },
  {
   "cell_type": "markdown",
   "id": "d84e24c2",
   "metadata": {},
   "source": [
    "<div class=\"alert alert-block alert-info\"> \n",
    "\n",
    "   * Linear Algebra\n",
    "   *Statistics\n",
    "   *Probability\n",
    "   *Trignometry (sin,cos,tan)\n",
    "   *Matrix\n",
    "   *Image Procressing\n",
    "   *Logarithmic </div>"
   ]
  },
  {
   "cell_type": "markdown",
   "id": "3d2d43a6",
   "metadata": {},
   "source": [
    "## <span style='color:rgb(77, 119, 207)'> Import Library</span>"
   ]
  },
  {
   "cell_type": "code",
   "execution_count": 1,
   "id": "a2f25206",
   "metadata": {},
   "outputs": [],
   "source": [
    "import numpy as np\n",
    "import pandas as pd"
   ]
  },
  {
   "cell_type": "markdown",
   "id": "d01063d0",
   "metadata": {},
   "source": [
    "<div class=\"alert alert-block alert-info\"> \n",
    "    \n",
    "* It is collection of homegeneous datatypes\n",
    "* ndarray >> n-dimentional array\n",
    "* Numpy is faster than list\n",
    "* Numpy is written in C/C++ language (Partially in Python)\n",
    "* C is faster than Python language\n",
    "* array can be created using tuple/lists </div>"
   ]
  },
  {
   "cell_type": "markdown",
   "id": "2b547f2e",
   "metadata": {},
   "source": [
    "## <span style='color:rgb(77, 119, 207)'> Datatypes Handled by Numpy </span>"
   ]
  },
  {
   "cell_type": "markdown",
   "id": "e321b8b8",
   "metadata": {},
   "source": [
    "<div class ='alert alert-block alert-info'> \n",
    "    \n",
    "1. Integer Types\n",
    "1. Floating-Point Types\n",
    "1. Complex Types\n",
    "1. Boolean Types\n",
    "1. String Types\n",
    "1. Object Types\n",
    "1. Datetime Types\n",
    "1. Timedelta Types\n",
    "1. Void Types\n",
    "</div>"
   ]
  },
  {
   "cell_type": "markdown",
   "id": "2ae24aa8",
   "metadata": {},
   "source": [
    "## <span style = 'color:rgb(77,119,207)'> Datatypes of Array </span>"
   ]
  },
  {
   "cell_type": "markdown",
   "id": "462aba2d",
   "metadata": {},
   "source": [
    "<div class='alert alert-block alert-info'>\n",
    "    \n",
    "1. Int\n",
    "2. Float\n",
    "3. Complex\n",
    "4. Boolean\n",
    "5. String\n",
    "</div>"
   ]
  },
  {
   "cell_type": "code",
   "execution_count": 4,
   "id": "9b857657",
   "metadata": {},
   "outputs": [
    {
     "name": "stdout",
     "output_type": "stream",
     "text": [
      "[1 2 3]\n",
      "<class 'numpy.ndarray'>\n",
      "int32\n"
     ]
    }
   ],
   "source": [
    "arr_int = np.array([1,2,3])\n",
    "print(arr_int)\n",
    "print(type(arr_int))\n",
    "print(arr_int.dtype)"
   ]
  },
  {
   "cell_type": "code",
   "execution_count": 5,
   "id": "fa638bcb",
   "metadata": {},
   "outputs": [
    {
     "name": "stdout",
     "output_type": "stream",
     "text": [
      "[4.5 7.  2.  1.2]\n",
      "<class 'numpy.ndarray'>\n",
      "float64\n"
     ]
    }
   ],
   "source": [
    "float_arr = np.array([4.5,7,2,1.2])\n",
    "print(float_arr)\n",
    "print(type(float_arr))\n",
    "print(float_arr.dtype)"
   ]
  },
  {
   "cell_type": "code",
   "execution_count": 6,
   "id": "80da09f3",
   "metadata": {},
   "outputs": [
    {
     "name": "stdout",
     "output_type": "stream",
     "text": [
      "[4.5+2.j 7. +0.j 2. +0.j 1.2+0.j]\n",
      "<class 'numpy.ndarray'>\n",
      "complex128\n"
     ]
    }
   ],
   "source": [
    "comp_arr = np.array([4.5+2j,7,2,1.2])\n",
    "print(comp_arr)\n",
    "print(type(comp_arr))\n",
    "print(comp_arr.dtype)"
   ]
  },
  {
   "cell_type": "code",
   "execution_count": 7,
   "id": "89570d76",
   "metadata": {},
   "outputs": [
    {
     "name": "stdout",
     "output_type": "stream",
     "text": [
      "[ True False False]\n",
      "<class 'numpy.ndarray'>\n",
      "bool\n"
     ]
    }
   ],
   "source": [
    "bbol_arr = np.array([True, False, False])\n",
    "print(bbol_arr)\n",
    "print(type(bbol_arr))\n",
    "print(bbol_arr.dtype)"
   ]
  },
  {
   "cell_type": "code",
   "execution_count": 8,
   "id": "d50f79ce",
   "metadata": {},
   "outputs": [
    {
     "name": "stdout",
     "output_type": "stream",
     "text": [
      "['Python' 'Jupyter' 'Data']\n",
      "<class 'numpy.ndarray'>\n",
      "<U7\n"
     ]
    }
   ],
   "source": [
    "str_arr = np.array(['Python','Jupyter','Data'])\n",
    "print(str_arr)\n",
    "print(type(str_arr))\n",
    "print(str_arr.dtype)"
   ]
  },
  {
   "cell_type": "markdown",
   "id": "8a72dcdb",
   "metadata": {},
   "source": [
    ">U7 : Indicated unicode string with maximum length 7"
   ]
  },
  {
   "cell_type": "markdown",
   "id": "d19ac6ea",
   "metadata": {},
   "source": [
    "### <span style = 'color:rgb(77,119,207)'>[</span>Change Datatype of Array<span style = 'color:rgb(77,119,207)'>]</span>"
   ]
  },
  {
   "cell_type": "code",
   "execution_count": 9,
   "id": "c940e592",
   "metadata": {},
   "outputs": [
    {
     "data": {
      "text/plain": [
       "array([1, 2, 3, 4, 5])"
      ]
     },
     "execution_count": 9,
     "metadata": {},
     "output_type": "execute_result"
    }
   ],
   "source": [
    "arr1=np.array([1,2,3,4,5])\n",
    "arr1"
   ]
  },
  {
   "cell_type": "code",
   "execution_count": 10,
   "id": "0d5f0a61",
   "metadata": {},
   "outputs": [
    {
     "data": {
      "text/plain": [
       "array([3, 4, 5, 6])"
      ]
     },
     "execution_count": 10,
     "metadata": {},
     "output_type": "execute_result"
    }
   ],
   "source": [
    "arr1=np.array([3,4,5,6],dtype='int')\n",
    "arr1"
   ]
  },
  {
   "cell_type": "code",
   "execution_count": 11,
   "id": "fa532a79",
   "metadata": {},
   "outputs": [
    {
     "data": {
      "text/plain": [
       "array([3., 4., 5., 6.])"
      ]
     },
     "execution_count": 11,
     "metadata": {},
     "output_type": "execute_result"
    }
   ],
   "source": [
    "arr1=np.array([3,4,5,6],dtype='float')\n",
    "arr1"
   ]
  },
  {
   "cell_type": "code",
   "execution_count": 12,
   "id": "9e3e975c",
   "metadata": {},
   "outputs": [
    {
     "data": {
      "text/plain": [
       "array([3.+0.j, 4.+0.j, 5.+0.j, 6.+0.j])"
      ]
     },
     "execution_count": 12,
     "metadata": {},
     "output_type": "execute_result"
    }
   ],
   "source": [
    "arr1=np.array([3,4,5,6],dtype='complex')\n",
    "arr1"
   ]
  },
  {
   "cell_type": "code",
   "execution_count": 13,
   "id": "5eeec28d",
   "metadata": {},
   "outputs": [
    {
     "data": {
      "text/plain": [
       "array([4, 7, 6, 2, 5])"
      ]
     },
     "execution_count": 13,
     "metadata": {},
     "output_type": "execute_result"
    }
   ],
   "source": [
    "arr2=np.array([4.6,7.8,6.5,2.1,5.4],dtype='int')\n",
    "arr2"
   ]
  },
  {
   "cell_type": "code",
   "execution_count": 9,
   "id": "23d63a71",
   "metadata": {},
   "outputs": [
    {
     "data": {
      "text/plain": [
       "array(['4.6', '7.8', '6.5', '2.1', '5.4'], dtype='<U3')"
      ]
     },
     "execution_count": 9,
     "metadata": {},
     "output_type": "execute_result"
    }
   ],
   "source": [
    "arr3=np.array([4.6,7.8,6.5,2.1,5.4],dtype='str')\n",
    "arr3"
   ]
  },
  {
   "cell_type": "code",
   "execution_count": 10,
   "id": "663cc4a6",
   "metadata": {},
   "outputs": [
    {
     "data": {
      "text/plain": [
       "array(['(4+2j)', '5'], dtype='<U6')"
      ]
     },
     "execution_count": 10,
     "metadata": {},
     "output_type": "execute_result"
    }
   ],
   "source": [
    "arr4=np.array([4+2j,5],dtype='str')\n",
    "arr4"
   ]
  },
  {
   "cell_type": "code",
   "execution_count": 12,
   "id": "1dda94a0",
   "metadata": {},
   "outputs": [
    {
     "data": {
      "text/plain": [
       "array([1, 2, 3])"
      ]
     },
     "execution_count": 12,
     "metadata": {},
     "output_type": "execute_result"
    }
   ],
   "source": [
    "arr4=np.array(['1','2','3'],dtype='int')\n",
    "arr4"
   ]
  },
  {
   "cell_type": "markdown",
   "id": "55543161",
   "metadata": {},
   "source": [
    "<div class='alert alert-block alert-info'><b>Data Conversions :</b>\n",
    "    \n",
    "* int >> float\n",
    "*float >> int\n",
    "*int, float >> complex, string\n",
    "*complex !!>> int, float\n",
    "*complex >> string\n",
    "*string >> int, float, complex (conditional)\n",
    "</div>"
   ]
  },
  {
   "cell_type": "markdown",
   "id": "e665d843",
   "metadata": {},
   "source": [
    "## <span style='color:rgb(77,119,207)'> Dimensions of Array </span>"
   ]
  },
  {
   "cell_type": "markdown",
   "id": "86400790",
   "metadata": {},
   "source": [
    "####  <span style = 'color:rgb(77,119,207)'> [</span> 0-D Arrays(Scalars) <span style = 'color:rgb(77,119,207)'>]</span>"
   ]
  },
  {
   "cell_type": "code",
   "execution_count": 13,
   "id": "186781f1",
   "metadata": {},
   "outputs": [
    {
     "name": "stdout",
     "output_type": "stream",
     "text": [
      "100\n",
      "Number of dimensions : 0\n"
     ]
    }
   ],
   "source": [
    "arr0 = np.array(100)\n",
    "print(arr0)\n",
    "print(\"Number of dimensions :\",arr0.ndim)"
   ]
  },
  {
   "cell_type": "code",
   "execution_count": 15,
   "id": "5b05e236",
   "metadata": {},
   "outputs": [
    {
     "name": "stdout",
     "output_type": "stream",
     "text": [
      "100.0\n",
      "Number of dimensions : 0\n"
     ]
    }
   ],
   "source": [
    "arr0 = np.array(100,float)\n",
    "print(arr0)\n",
    "print(\"Number of dimensions :\",arr0.ndim)"
   ]
  },
  {
   "cell_type": "code",
   "execution_count": 16,
   "id": "520b6668",
   "metadata": {},
   "outputs": [
    {
     "name": "stdout",
     "output_type": "stream",
     "text": [
      "100\n",
      "Number of dimensions : 0\n"
     ]
    }
   ],
   "source": [
    "arr0 = np.array(100,str)\n",
    "print(arr0)\n",
    "print(\"Number of dimensions :\",arr0.ndim)"
   ]
  },
  {
   "cell_type": "markdown",
   "id": "f1328b2d",
   "metadata": {},
   "source": [
    "####  <span style = 'color:rgb(77,119,207)'> [</span> 1-D Arrays(Vectors) <span style = 'color:rgb(77,119,207)'>]</span>"
   ]
  },
  {
   "cell_type": "markdown",
   "id": "8073d6af",
   "metadata": {},
   "source": [
    "> It is collection of multiple 0-D arrays"
   ]
  },
  {
   "cell_type": "code",
   "execution_count": 19,
   "id": "e3c771f8",
   "metadata": {},
   "outputs": [
    {
     "name": "stdout",
     "output_type": "stream",
     "text": [
      "[100 200 300]\n",
      "Number of dimensions : 1\n"
     ]
    }
   ],
   "source": [
    "arr1 = np.array([100,200,300])\n",
    "print(arr1)\n",
    "print(\"Number of dimensions :\", arr1.ndim)"
   ]
  },
  {
   "cell_type": "code",
   "execution_count": 20,
   "id": "1bf3404e",
   "metadata": {},
   "outputs": [
    {
     "name": "stdout",
     "output_type": "stream",
     "text": [
      "[100]\n",
      "Number of dimensions : 1\n"
     ]
    }
   ],
   "source": [
    "arr1 = np.array([100])\n",
    "print(arr1)\n",
    "print(\"Number of dimensions :\", arr1.ndim)"
   ]
  },
  {
   "cell_type": "markdown",
   "id": "e1efc336",
   "metadata": {},
   "source": [
    "####  <span style = 'color:rgb(77,119,207)'> [</span> 2-D Arrays(Matrices) <span style = 'color:rgb(77,119,207)'>]</span>"
   ]
  },
  {
   "cell_type": "markdown",
   "id": "5965d2fb",
   "metadata": {},
   "source": [
    "> It is collection of multiple 1-D arrays"
   ]
  },
  {
   "cell_type": "code",
   "execution_count": 22,
   "id": "98cacbce",
   "metadata": {},
   "outputs": [
    {
     "name": "stdout",
     "output_type": "stream",
     "text": [
      "[[100 200]\n",
      " [300 400]]\n",
      "Number of dimensions : 2\n"
     ]
    }
   ],
   "source": [
    "arr2 = np.array([[100,200],[300,400]])\n",
    "print(arr2)\n",
    "print(\"Number of dimensions :\", arr2.ndim)"
   ]
  },
  {
   "cell_type": "code",
   "execution_count": 24,
   "id": "a130dfdd",
   "metadata": {},
   "outputs": [
    {
     "name": "stdout",
     "output_type": "stream",
     "text": [
      "[[100 200]\n",
      " [300 400]\n",
      " [  1   2]]\n",
      "Number of dimensions : 2\n"
     ]
    }
   ],
   "source": [
    "arr2 = np.array([[100,200],[300,400],[1,2]])\n",
    "print(arr2)\n",
    "print(\"Number of dimensions :\", arr2.ndim)"
   ]
  },
  {
   "cell_type": "code",
   "execution_count": 25,
   "id": "9656f3f9",
   "metadata": {},
   "outputs": [
    {
     "name": "stdout",
     "output_type": "stream",
     "text": [
      "[[100 200   1]\n",
      " [300 400   2]]\n",
      "Number of dimensions : 2\n"
     ]
    }
   ],
   "source": [
    "arr2 = np.array([[100,200,1],[300,400,2]])\n",
    "print(arr2)\n",
    "print(\"Number of dimensions :\", arr2.ndim)"
   ]
  },
  {
   "cell_type": "markdown",
   "id": "5bede62c",
   "metadata": {},
   "source": [
    "####  <span style = 'color:rgb(77,119,207)'>[</span> 3-D Arrays <span style = 'color:rgb(77,119,207)'>]</span>"
   ]
  },
  {
   "cell_type": "markdown",
   "id": "ff123658",
   "metadata": {},
   "source": [
    "> It is collection of multiple 2-D array"
   ]
  },
  {
   "cell_type": "code",
   "execution_count": 29,
   "id": "f4ab7b3c",
   "metadata": {},
   "outputs": [
    {
     "name": "stdout",
     "output_type": "stream",
     "text": [
      "[[[1 2 3]\n",
      "  [4 5 6]]]\n",
      "Number of dimensions : 3\n"
     ]
    }
   ],
   "source": [
    "arr3 = np.array([[[1,2,3],[4,5,6]]])\n",
    "print(arr3)\n",
    "print(\"Number of dimensions :\", arr3.ndim)"
   ]
  },
  {
   "cell_type": "code",
   "execution_count": 30,
   "id": "bc867f31",
   "metadata": {},
   "outputs": [
    {
     "data": {
      "text/plain": [
       "1"
      ]
     },
     "execution_count": 30,
     "metadata": {},
     "output_type": "execute_result"
    }
   ],
   "source": [
    "len(arr3)"
   ]
  },
  {
   "cell_type": "code",
   "execution_count": 31,
   "id": "16cb7a1e",
   "metadata": {},
   "outputs": [
    {
     "name": "stdout",
     "output_type": "stream",
     "text": [
      "[[[1 2 3]\n",
      "  [4 5 6]]\n",
      "\n",
      " [[1 2 3]\n",
      "  [4 5 6]]]\n",
      "Number of dimensions : 3\n"
     ]
    }
   ],
   "source": [
    "arr3 = np.array([[[1,2,3],[4,5,6]],[[1,2,3],[4,5,6]]])\n",
    "print(arr3)\n",
    "print(\"Number of dimensions :\", arr3.ndim)"
   ]
  },
  {
   "cell_type": "code",
   "execution_count": 32,
   "id": "26195ef8",
   "metadata": {},
   "outputs": [
    {
     "data": {
      "text/plain": [
       "2"
      ]
     },
     "execution_count": 32,
     "metadata": {},
     "output_type": "execute_result"
    }
   ],
   "source": [
    "len(arr3)"
   ]
  },
  {
   "cell_type": "markdown",
   "id": "a92af93c",
   "metadata": {},
   "source": [
    "## <span style='color:rgb(77,119,207)'> Indexing & Slicing </span>"
   ]
  },
  {
   "cell_type": "code",
   "execution_count": 34,
   "id": "055cb5a1",
   "metadata": {},
   "outputs": [
    {
     "name": "stdout",
     "output_type": "stream",
     "text": [
      "[10 20 30 40 50 60]\n"
     ]
    }
   ],
   "source": [
    "arr = np.array([10,20,30,40,50,60])\n",
    "print(arr)"
   ]
  },
  {
   "cell_type": "code",
   "execution_count": 35,
   "id": "cb688cef",
   "metadata": {},
   "outputs": [
    {
     "data": {
      "text/plain": [
       "10"
      ]
     },
     "execution_count": 35,
     "metadata": {},
     "output_type": "execute_result"
    }
   ],
   "source": [
    "arr[0]"
   ]
  },
  {
   "cell_type": "code",
   "execution_count": 36,
   "id": "2a1a1639",
   "metadata": {},
   "outputs": [
    {
     "data": {
      "text/plain": [
       "60"
      ]
     },
     "execution_count": 36,
     "metadata": {},
     "output_type": "execute_result"
    }
   ],
   "source": [
    "arr[-1]"
   ]
  },
  {
   "cell_type": "code",
   "execution_count": 37,
   "id": "73ebf37b",
   "metadata": {},
   "outputs": [
    {
     "data": {
      "text/plain": [
       "array([30, 40, 50, 60])"
      ]
     },
     "execution_count": 37,
     "metadata": {},
     "output_type": "execute_result"
    }
   ],
   "source": [
    "arr[2:6]"
   ]
  },
  {
   "cell_type": "code",
   "execution_count": 38,
   "id": "def90024",
   "metadata": {},
   "outputs": [
    {
     "name": "stdout",
     "output_type": "stream",
     "text": [
      "[[  2   3   4]\n",
      " [  5   6   7]\n",
      " [ 10  20  30]\n",
      " [100 200 300]]\n"
     ]
    }
   ],
   "source": [
    "array2 = np.array([[2,3,4],[5,6,7],[10,20,30],[100,200,300]])\n",
    "print(array2)"
   ]
  },
  {
   "cell_type": "code",
   "execution_count": 39,
   "id": "03c96ca6",
   "metadata": {},
   "outputs": [
    {
     "data": {
      "text/plain": [
       "array([2, 3, 4])"
      ]
     },
     "execution_count": 39,
     "metadata": {},
     "output_type": "execute_result"
    }
   ],
   "source": [
    "array2[0]"
   ]
  },
  {
   "cell_type": "code",
   "execution_count": 40,
   "id": "a0faafe3",
   "metadata": {},
   "outputs": [
    {
     "data": {
      "text/plain": [
       "6"
      ]
     },
     "execution_count": 40,
     "metadata": {},
     "output_type": "execute_result"
    }
   ],
   "source": [
    "array2[1][1]"
   ]
  },
  {
   "cell_type": "code",
   "execution_count": 45,
   "id": "df8bf0ae",
   "metadata": {},
   "outputs": [
    {
     "data": {
      "text/plain": [
       "array([[2, 3, 4],\n",
       "       [5, 6, 7]])"
      ]
     },
     "execution_count": 45,
     "metadata": {},
     "output_type": "execute_result"
    }
   ],
   "source": [
    "array2[0:2,]"
   ]
  },
  {
   "cell_type": "markdown",
   "id": "983e4a7a",
   "metadata": {},
   "source": [
    "####  <span style = 'color:rgb(77,119,207)'>[</span> Indexing and slicing of 3-D Arrays <span style ='color:rgb(77,119,207)'>]</span>"
   ]
  },
  {
   "cell_type": "code",
   "execution_count": 48,
   "id": "1e194c61",
   "metadata": {},
   "outputs": [
    {
     "name": "stdout",
     "output_type": "stream",
     "text": [
      "[[[ 1  2  3]\n",
      "  [ 4  5  6]]\n",
      "\n",
      " [[ 7  8  9]\n",
      "  [10 11 12]]]\n"
     ]
    }
   ],
   "source": [
    "array3 = np.array([[[1,2,3],[4,5,6]],[[7,8,9],[10,11,12]]])\n",
    "print(array3)"
   ]
  },
  {
   "cell_type": "code",
   "execution_count": 49,
   "id": "fbf14fd7",
   "metadata": {},
   "outputs": [
    {
     "data": {
      "text/plain": [
       "array([[[ 1,  2,  3],\n",
       "        [ 4,  5,  6]],\n",
       "\n",
       "       [[ 7,  8,  9],\n",
       "        [10, 11, 12]]])"
      ]
     },
     "execution_count": 49,
     "metadata": {},
     "output_type": "execute_result"
    }
   ],
   "source": [
    "array3[:,:,:]"
   ]
  },
  {
   "cell_type": "code",
   "execution_count": 52,
   "id": "17a28c5f",
   "metadata": {},
   "outputs": [
    {
     "data": {
      "text/plain": [
       "array([[5]])"
      ]
     },
     "execution_count": 52,
     "metadata": {},
     "output_type": "execute_result"
    }
   ],
   "source": [
    "array3[0,1:2,1:2]"
   ]
  },
  {
   "cell_type": "code",
   "execution_count": 53,
   "id": "90f31ecd",
   "metadata": {},
   "outputs": [
    {
     "data": {
      "text/plain": [
       "(2, 2, 3)"
      ]
     },
     "execution_count": 53,
     "metadata": {},
     "output_type": "execute_result"
    }
   ],
   "source": [
    "array3.shape"
   ]
  },
  {
   "cell_type": "markdown",
   "id": "ff2076ac",
   "metadata": {},
   "source": [
    "## <span style='color:rgb(77,119,207)'> Changing Dimensions </span>"
   ]
  },
  {
   "cell_type": "markdown",
   "id": "214f77c6",
   "metadata": {},
   "source": [
    "####  <span style = 'color:rgb(77,119,207)'>[</span> Convert to n-D array <span style ='color:rgb(77,119,207)'>]</span>"
   ]
  },
  {
   "cell_type": "code",
   "execution_count": 15,
   "id": "b2b318e8",
   "metadata": {},
   "outputs": [
    {
     "name": "stdout",
     "output_type": "stream",
     "text": [
      "Array : 0\n",
      "Dimension of array : 0\n",
      "Array after changing dimension : [0]\n",
      "Dimension of array : 1\n"
     ]
    }
   ],
   "source": [
    "#case-1 : Convertion 0D array to 1D\n",
    "arr1 = np.array(0)\n",
    "print(\"Array :\",arr1)\n",
    "print(\"Dimension of array :\", arr1.ndim)\n",
    "arr1 = np.array(0,ndmin=1)\n",
    "print(\"Array after changing dimension :\",arr1)\n",
    "print(\"Dimension of array :\", arr1.ndim)"
   ]
  },
  {
   "cell_type": "code",
   "execution_count": 7,
   "id": "307e0eb6",
   "metadata": {},
   "outputs": [
    {
     "name": "stdout",
     "output_type": "stream",
     "text": [
      "Array : [0 1 2 3 4 5]\n",
      "Dimension of array : 1\n",
      "Array after changing dimension : [[0 1 2 3 4 5]]\n",
      "Dimension of array : 2\n"
     ]
    }
   ],
   "source": [
    "#case-2 : Convertion 1D array to 2D\n",
    "arr1 = np.array([0,1,2,3,4,5])\n",
    "print(\"Array :\",arr1)\n",
    "print(\"Dimension of array :\", arr1.ndim)\n",
    "arr1 = np.array([0,1,2,3,4,5],ndmin=2)\n",
    "print(\"Array after changing dimension :\",arr1)\n",
    "print(\"Dimension of array :\", arr1.ndim)"
   ]
  },
  {
   "cell_type": "code",
   "execution_count": 8,
   "id": "6ef0d705",
   "metadata": {},
   "outputs": [
    {
     "name": "stdout",
     "output_type": "stream",
     "text": [
      "Array : [[2 3 4]]\n",
      "Dimension of array : 2\n",
      "Array after changing dimension : [[[2 3 4]]]\n",
      "Dimension of array : 3\n"
     ]
    }
   ],
   "source": [
    "#case-3 : Convertion 2D array to 3D\n",
    "arr2 = np.array([[2,3,4]])\n",
    "print(\"Array :\",arr2)\n",
    "print(\"Dimension of array :\", arr2.ndim)\n",
    "arr2 = np.array([[2,3,4]],ndmin=3)\n",
    "print(\"Array after changing dimension :\",arr2)\n",
    "print(\"Dimension of array :\", arr2.ndim)"
   ]
  },
  {
   "cell_type": "code",
   "execution_count": 20,
   "id": "45b7abdf",
   "metadata": {},
   "outputs": [
    {
     "name": "stdout",
     "output_type": "stream",
     "text": [
      "Array : [[[2 3 4]\n",
      "  [5 6 7]]]\n",
      "Dimension of array : 3\n",
      "Array after changing dimension : [[[2 3 4]\n",
      "  [5 6 7]]]\n",
      "Dimension of array : 3\n"
     ]
    }
   ],
   "source": [
    "#case-4 : Convertion 3D array to 2D\n",
    "arr2 = np.array([[[2,3,4],[5,6,7]]])\n",
    "print(\"Array :\",arr2)\n",
    "print(\"Dimension of array :\", arr2.ndim)\n",
    "arr2 = np.array([[[2,3,4],[5,6,7]]],ndmin=2)\n",
    "print(\"Array after changing dimension :\",arr2)\n",
    "print(\"Dimension of array :\", arr2.ndim)"
   ]
  },
  {
   "cell_type": "markdown",
   "id": "d5d4ccfa",
   "metadata": {},
   "source": [
    "> In case-4 we can see that we can't change array form upper dimension to lower dimension For that we can use below methods"
   ]
  },
  {
   "cell_type": "markdown",
   "id": "05267935",
   "metadata": {},
   "source": [
    "####  <span style = 'color:rgb(77,119,207)'>[</span> Flatten Array <span style ='color:rgb(77,119,207)'>]</span>  or  <span style = 'color:rgb(77,119,207)'>[</span> Ravel Array <span style ='color:rgb(77,119,207)'>]</span>"
   ]
  },
  {
   "cell_type": "markdown",
   "id": "6045911b",
   "metadata": {},
   "source": [
    "<div class='alert alert-block alert-info'>\n",
    "These methods are used to convert n-D array to 1-D\n",
    "</div>"
   ]
  },
  {
   "cell_type": "code",
   "execution_count": 27,
   "id": "822d2bbb",
   "metadata": {},
   "outputs": [
    {
     "name": "stdout",
     "output_type": "stream",
     "text": [
      "Array :\n",
      " [[2 4]\n",
      " [5 6]]\n",
      "Dimension of Array : 2\n",
      "Array :\n",
      " [2 4 5 6]\n",
      "Dimension of Array : 1\n"
     ]
    }
   ],
   "source": [
    "#case-1 : convert 2d array to 1d\n",
    "array = np.array([[2,4],[5,6]])\n",
    "print(\"Array :\\n\", array)\n",
    "print(\"Dimension of Array :\", array.ndim)\n",
    "\n",
    "array2 = array.flatten()\n",
    "print(\"Array :\\n\", array2)\n",
    "print(\"Dimension of Array :\", array2.ndim)"
   ]
  },
  {
   "cell_type": "code",
   "execution_count": 25,
   "id": "0b8d6d6f",
   "metadata": {},
   "outputs": [
    {
     "name": "stdout",
     "output_type": "stream",
     "text": [
      "Array :\n",
      " [[[2 4 6]\n",
      "  [5 6 3]\n",
      "  [8 9 3]]]\n",
      "Dimension of Array : 3\n",
      "Array : [2 4 6 5 6 3 8 9 3]\n",
      "Dimension of Array : 1\n"
     ]
    }
   ],
   "source": [
    "#case-2 : convert 3d array to 1d\n",
    "array = np.array([[[2,4,6],[5,6,3],[8,9,3]]])\n",
    "print(\"Array :\\n\", array)\n",
    "print(\"Dimension of Array :\", array.ndim)\n",
    "\n",
    "array2 = array.flatten()\n",
    "print(\"Array :\", array2)\n",
    "print(\"Dimension of Array :\", array2.ndim)"
   ]
  },
  {
   "cell_type": "code",
   "execution_count": 29,
   "id": "c57517ef",
   "metadata": {},
   "outputs": [
    {
     "name": "stdout",
     "output_type": "stream",
     "text": [
      "Array :\n",
      " [[2 4 6]\n",
      " [5 6 3]\n",
      " [8 9 3]]\n",
      "Dimension of Array : 2\n",
      "Array : [2 4 6 5 6 3 8 9 3]\n",
      "Dimension of Array : 1\n"
     ]
    }
   ],
   "source": [
    "#case-3 : convert 2d array to 1d\n",
    "array = np.array([[2,4,6],[5,6,3],[8,9,3]])\n",
    "print(\"Array :\\n\", array)\n",
    "print(\"Dimension of Array :\", array.ndim)\n",
    "\n",
    "array2 = array.ravel()\n",
    "print(\"Array :\", array2)\n",
    "print(\"Dimension of Array :\", array2.ndim)"
   ]
  },
  {
   "cell_type": "markdown",
   "id": "ee6cd573",
   "metadata": {},
   "source": [
    "####  <span style = 'color:rgb(77,119,207)'>[</span> Reshape <span style ='color:rgb(77,119,207)'>]</span>"
   ]
  },
  {
   "cell_type": "markdown",
   "id": "d6549707",
   "metadata": {},
   "source": [
    "<div class='alert alert-block alert-info'>\n",
    "This method is used to change shape of array\n",
    "</div>"
   ]
  },
  {
   "cell_type": "code",
   "execution_count": 32,
   "id": "c361da85",
   "metadata": {},
   "outputs": [
    {
     "name": "stdout",
     "output_type": "stream",
     "text": [
      "[[1]]\n",
      "(1, 1)\n"
     ]
    }
   ],
   "source": [
    "arr = np.array([1],ndmin=2)\n",
    "print(arr)\n",
    "print(arr.shape)"
   ]
  },
  {
   "cell_type": "code",
   "execution_count": 34,
   "id": "70e7a20c",
   "metadata": {},
   "outputs": [
    {
     "name": "stdout",
     "output_type": "stream",
     "text": [
      "[[[2 3 4]\n",
      "  [4 5 6]]\n",
      "\n",
      " [[1 2 3]\n",
      "  [4 5 6]]]\n",
      "(2, 2, 3)\n"
     ]
    }
   ],
   "source": [
    "arrr = np.array([[[2,3,4],[4,5,6]],[[1,2,3],[4,5,6]]])\n",
    "print(arrr)\n",
    "print(arrr.shape)"
   ]
  },
  {
   "cell_type": "code",
   "execution_count": 36,
   "id": "2c116b20",
   "metadata": {},
   "outputs": [
    {
     "data": {
      "text/plain": [
       "array([[2, 3, 4],\n",
       "       [4, 5, 6],\n",
       "       [1, 2, 3],\n",
       "       [4, 5, 6]])"
      ]
     },
     "execution_count": 36,
     "metadata": {},
     "output_type": "execute_result"
    }
   ],
   "source": [
    "arrr.reshape(4,3)"
   ]
  },
  {
   "cell_type": "code",
   "execution_count": 37,
   "id": "64ff64c1",
   "metadata": {},
   "outputs": [
    {
     "data": {
      "text/plain": [
       "array([[[2, 3],\n",
       "        [4, 4]],\n",
       "\n",
       "       [[5, 6],\n",
       "        [1, 2]],\n",
       "\n",
       "       [[3, 4],\n",
       "        [5, 6]]])"
      ]
     },
     "execution_count": 37,
     "metadata": {},
     "output_type": "execute_result"
    }
   ],
   "source": [
    "arrr.reshape(3,2,2)"
   ]
  },
  {
   "cell_type": "code",
   "execution_count": 38,
   "id": "5104c39a",
   "metadata": {},
   "outputs": [
    {
     "name": "stdout",
     "output_type": "stream",
     "text": [
      "array : [  2   3   4   5  10  20  30  40 100 200 300 400]\n",
      "Number of dimesions of an array : 1\n"
     ]
    },
    {
     "data": {
      "text/plain": [
       "array([[[  2,   3,   4],\n",
       "        [  5,  10,  20]],\n",
       "\n",
       "       [[ 30,  40, 100],\n",
       "        [200, 300, 400]]])"
      ]
     },
     "execution_count": 38,
     "metadata": {},
     "output_type": "execute_result"
    }
   ],
   "source": [
    "array = np.array([2,3,4,5,10,20,30,40,100,200,300,400],ndmin = 1)\n",
    "print('array :',array)\n",
    "print(\"Number of dimesions of an array :\",array.ndim)\n",
    "\n",
    "array.reshape(2,2,3)"
   ]
  },
  {
   "cell_type": "markdown",
   "id": "34e950c8",
   "metadata": {},
   "source": [
    "## <span style='color:rgb(77,119,207)'> Accessing array elements using loop </span>"
   ]
  },
  {
   "cell_type": "markdown",
   "id": "027b96e9",
   "metadata": {},
   "source": [
    "####  <span style = 'color:rgb(77,119,207)'>[</span> For loop <span style ='color:rgb(77,119,207)'>]</span>"
   ]
  },
  {
   "cell_type": "code",
   "execution_count": 40,
   "id": "1a4b7b5d",
   "metadata": {},
   "outputs": [
    {
     "name": "stdout",
     "output_type": "stream",
     "text": [
      "[[[  2   3   4]\n",
      "  [  5  10  20]]\n",
      "\n",
      " [[ 30  40 100]\n",
      "  [200 300 400]]]\n"
     ]
    }
   ],
   "source": [
    "array2 = array.reshape(2,2,3)\n",
    "print(array2)"
   ]
  },
  {
   "cell_type": "code",
   "execution_count": 41,
   "id": "5621e348",
   "metadata": {},
   "outputs": [
    {
     "name": "stdout",
     "output_type": "stream",
     "text": [
      "[[ 2  3  4]\n",
      " [ 5 10 20]]\n",
      "[[ 30  40 100]\n",
      " [200 300 400]]\n"
     ]
    }
   ],
   "source": [
    "for i in array2:\n",
    "    print(i)"
   ]
  },
  {
   "cell_type": "code",
   "execution_count": 42,
   "id": "185f97fd",
   "metadata": {},
   "outputs": [
    {
     "name": "stdout",
     "output_type": "stream",
     "text": [
      "[2 3 4]\n",
      "[ 5 10 20]\n",
      "[ 30  40 100]\n",
      "[200 300 400]\n"
     ]
    }
   ],
   "source": [
    "for i in array2:\n",
    "    for j in i:\n",
    "        print(j)"
   ]
  },
  {
   "cell_type": "code",
   "execution_count": 43,
   "id": "1510802d",
   "metadata": {},
   "outputs": [
    {
     "name": "stdout",
     "output_type": "stream",
     "text": [
      "2\n",
      "3\n",
      "4\n",
      "5\n",
      "10\n",
      "20\n",
      "30\n",
      "40\n",
      "100\n",
      "200\n",
      "300\n",
      "400\n"
     ]
    }
   ],
   "source": [
    "for i in array2:\n",
    "    for j in i:\n",
    "        for k in j:\n",
    "            print(k)"
   ]
  },
  {
   "cell_type": "markdown",
   "id": "065a6ff5",
   "metadata": {},
   "source": [
    "####  <span style = 'color:rgb(77,119,207)'>[</span> np.nditer() <span style ='color:rgb(77,119,207)'>]</span>"
   ]
  },
  {
   "cell_type": "code",
   "execution_count": 44,
   "id": "1cb4b4e8",
   "metadata": {},
   "outputs": [
    {
     "name": "stdout",
     "output_type": "stream",
     "text": [
      "2\n",
      "3\n",
      "4\n",
      "5\n",
      "10\n",
      "20\n",
      "30\n",
      "40\n",
      "100\n",
      "200\n",
      "300\n",
      "400\n"
     ]
    }
   ],
   "source": [
    "for i in np.nditer(array2):\n",
    "    print(i)"
   ]
  },
  {
   "cell_type": "markdown",
   "id": "fd70a515",
   "metadata": {},
   "source": [
    "####  <span style = 'color:rgb(77,119,207)'>[</span> np.ndenumerate() <span style ='color:rgb(77,119,207)'>]</span>"
   ]
  },
  {
   "cell_type": "code",
   "execution_count": 47,
   "id": "cfc7ae4d",
   "metadata": {},
   "outputs": [
    {
     "name": "stdout",
     "output_type": "stream",
     "text": [
      "(0, 0, 0) 2\n",
      "(0, 0, 1) 3\n",
      "(0, 0, 2) 4\n",
      "(0, 1, 0) 5\n",
      "(0, 1, 1) 10\n",
      "(0, 1, 2) 20\n",
      "(1, 0, 0) 30\n",
      "(1, 0, 1) 40\n",
      "(1, 0, 2) 100\n",
      "(1, 1, 0) 200\n",
      "(1, 1, 1) 300\n",
      "(1, 1, 2) 400\n"
     ]
    }
   ],
   "source": [
    "for index, value in np.ndenumerate(array2):\n",
    "    print(index,value)"
   ]
  },
  {
   "cell_type": "markdown",
   "id": "324b7131",
   "metadata": {},
   "source": [
    "## <span style='color:rgb(77,119,207)'> Functions </span>"
   ]
  },
  {
   "cell_type": "markdown",
   "id": "94884460",
   "metadata": {},
   "source": [
    "####  <span style = 'color:rgb(77,119,207)'>[</span> np.zeros()<span style ='color:rgb(77,119,207)'>]</span>"
   ]
  },
  {
   "cell_type": "markdown",
   "id": "5b15c616",
   "metadata": {},
   "source": [
    "<div class='alert alert-block alert-info'>\n",
    "np.zeros(shape, dtype = default float)\n",
    "    \n",
    "- Return an array of zero value\n",
    "- Weight Initialization\n",
    "- Target column creation\n",
    "</div>"
   ]
  },
  {
   "cell_type": "code",
   "execution_count": 48,
   "id": "ce57e632",
   "metadata": {},
   "outputs": [
    {
     "data": {
      "text/plain": [
       "array([0., 0., 0., 0., 0.])"
      ]
     },
     "execution_count": 48,
     "metadata": {},
     "output_type": "execute_result"
    }
   ],
   "source": [
    "arr1 = np.zeros(5)\n",
    "arr1"
   ]
  },
  {
   "cell_type": "code",
   "execution_count": 49,
   "id": "dcc43fd6",
   "metadata": {},
   "outputs": [
    {
     "data": {
      "text/plain": [
       "array([0, 0, 0, 0, 0])"
      ]
     },
     "execution_count": 49,
     "metadata": {},
     "output_type": "execute_result"
    }
   ],
   "source": [
    "arr1 = np.zeros(5,dtype=int)\n",
    "arr1"
   ]
  },
  {
   "cell_type": "code",
   "execution_count": 50,
   "id": "0d9322e7",
   "metadata": {},
   "outputs": [
    {
     "data": {
      "text/plain": [
       "array([[0, 0, 0, 0, 0],\n",
       "       [0, 0, 0, 0, 0],\n",
       "       [0, 0, 0, 0, 0],\n",
       "       [0, 0, 0, 0, 0]])"
      ]
     },
     "execution_count": 50,
     "metadata": {},
     "output_type": "execute_result"
    }
   ],
   "source": [
    "arr1 = np.zeros((4,5),dtype=int)\n",
    "arr1"
   ]
  },
  {
   "cell_type": "code",
   "execution_count": 51,
   "id": "96366eb2",
   "metadata": {},
   "outputs": [
    {
     "data": {
      "text/plain": [
       "array([[[0, 0, 0, 0, 0],\n",
       "        [0, 0, 0, 0, 0],\n",
       "        [0, 0, 0, 0, 0],\n",
       "        [0, 0, 0, 0, 0]],\n",
       "\n",
       "       [[0, 0, 0, 0, 0],\n",
       "        [0, 0, 0, 0, 0],\n",
       "        [0, 0, 0, 0, 0],\n",
       "        [0, 0, 0, 0, 0]]])"
      ]
     },
     "execution_count": 51,
     "metadata": {},
     "output_type": "execute_result"
    }
   ],
   "source": [
    "arr1 = np.zeros((2,4,5),dtype=int)\n",
    "arr1"
   ]
  },
  {
   "cell_type": "markdown",
   "id": "0c8b6e89",
   "metadata": {},
   "source": [
    "####  <span style = 'color:rgb(77,119,207)'>[</span> np.ones()<span style ='color:rgb(77,119,207)'>]</span>"
   ]
  },
  {
   "cell_type": "markdown",
   "id": "6fe6b57a",
   "metadata": {},
   "source": [
    "<div class='alert alert-block alert-info'>\n",
    "\n",
    "- np.ones(shape, dtype = float)  \n",
    "    \n",
    "- Return an array of one value    \n",
    "</div>"
   ]
  },
  {
   "cell_type": "code",
   "execution_count": 53,
   "id": "b0156de3",
   "metadata": {},
   "outputs": [
    {
     "data": {
      "text/plain": [
       "array([1., 1., 1., 1., 1., 1.])"
      ]
     },
     "execution_count": 53,
     "metadata": {},
     "output_type": "execute_result"
    }
   ],
   "source": [
    "array = np.ones(6)\n",
    "array"
   ]
  },
  {
   "cell_type": "code",
   "execution_count": 54,
   "id": "c336d3b1",
   "metadata": {},
   "outputs": [
    {
     "data": {
      "text/plain": [
       "array([1, 1, 1, 1, 1, 1])"
      ]
     },
     "execution_count": 54,
     "metadata": {},
     "output_type": "execute_result"
    }
   ],
   "source": [
    "array = np.ones(6,dtype=int)\n",
    "array"
   ]
  },
  {
   "cell_type": "code",
   "execution_count": 55,
   "id": "fd2cce7c",
   "metadata": {},
   "outputs": [
    {
     "data": {
      "text/plain": [
       "array([[1, 1],\n",
       "       [1, 1],\n",
       "       [1, 1],\n",
       "       [1, 1]])"
      ]
     },
     "execution_count": 55,
     "metadata": {},
     "output_type": "execute_result"
    }
   ],
   "source": [
    "array = np.ones((4,2),dtype=int)\n",
    "array"
   ]
  },
  {
   "cell_type": "code",
   "execution_count": 56,
   "id": "d05598dc",
   "metadata": {},
   "outputs": [
    {
     "data": {
      "text/plain": [
       "array([[[1, 1],\n",
       "        [1, 1],\n",
       "        [1, 1],\n",
       "        [1, 1]],\n",
       "\n",
       "       [[1, 1],\n",
       "        [1, 1],\n",
       "        [1, 1],\n",
       "        [1, 1]]])"
      ]
     },
     "execution_count": 56,
     "metadata": {},
     "output_type": "execute_result"
    }
   ],
   "source": [
    "array = np.ones((2,4,2),dtype=int)\n",
    "array"
   ]
  },
  {
   "cell_type": "markdown",
   "id": "5ddd7e15",
   "metadata": {},
   "source": [
    "####  <span style = 'color:rgb(77,119,207)'>[</span> np.arange()<span style ='color:rgb(77,119,207)'>]</span>"
   ]
  },
  {
   "cell_type": "code",
   "execution_count": 57,
   "id": "1a114df7",
   "metadata": {},
   "outputs": [
    {
     "data": {
      "text/plain": [
       "array([1, 2, 3, 4])"
      ]
     },
     "execution_count": 57,
     "metadata": {},
     "output_type": "execute_result"
    }
   ],
   "source": [
    "arr = np.arange(1,5)\n",
    "arr"
   ]
  },
  {
   "cell_type": "code",
   "execution_count": 58,
   "id": "a8475a9d",
   "metadata": {},
   "outputs": [
    {
     "data": {
      "text/plain": [
       "array([1, 3, 5, 7, 9])"
      ]
     },
     "execution_count": 58,
     "metadata": {},
     "output_type": "execute_result"
    }
   ],
   "source": [
    "arr = np.arange(1,10,2)\n",
    "arr"
   ]
  },
  {
   "cell_type": "code",
   "execution_count": 60,
   "id": "a6e98f1e",
   "metadata": {},
   "outputs": [
    {
     "data": {
      "text/plain": [
       "array([20, 19, 18, 17, 16, 15, 14, 13, 12, 11])"
      ]
     },
     "execution_count": 60,
     "metadata": {},
     "output_type": "execute_result"
    }
   ],
   "source": [
    "arr = np.arange(20,10,-1)\n",
    "arr"
   ]
  },
  {
   "cell_type": "code",
   "execution_count": 62,
   "id": "de8c3c7d",
   "metadata": {},
   "outputs": [
    {
     "data": {
      "text/plain": [
       "array([-10,  -9,  -8,  -7,  -6,  -5,  -4,  -3,  -2,  -1,   0])"
      ]
     },
     "execution_count": 62,
     "metadata": {},
     "output_type": "execute_result"
    }
   ],
   "source": [
    "arr = np.arange(-10,1)\n",
    "arr"
   ]
  },
  {
   "cell_type": "markdown",
   "id": "df2b1ab6",
   "metadata": {},
   "source": [
    "####  <span style = 'color:rgb(77,119,207)'>[</span> np.linspace()<span style ='color:rgb(77,119,207)'>]</span>"
   ]
  },
  {
   "cell_type": "markdown",
   "id": "5f82ea48",
   "metadata": {},
   "source": [
    "<div class='alert alert-block alert-info'> \n",
    "np.linspace(start,end, num = 50)\n",
    "    \n",
    "Returns evenly spaces values </div>"
   ]
  },
  {
   "cell_type": "code",
   "execution_count": 63,
   "id": "67a54de0",
   "metadata": {},
   "outputs": [
    {
     "data": {
      "text/plain": [
       "array([ 1.   ,  2.125,  3.25 ,  4.375,  5.5  ,  6.625,  7.75 ,  8.875,\n",
       "       10.   ])"
      ]
     },
     "execution_count": 63,
     "metadata": {},
     "output_type": "execute_result"
    }
   ],
   "source": [
    "array = np.linspace(1,10,9)\n",
    "array"
   ]
  },
  {
   "cell_type": "code",
   "execution_count": 64,
   "id": "ceba87cc",
   "metadata": {},
   "outputs": [
    {
     "data": {
      "text/plain": [
       "(9,)"
      ]
     },
     "execution_count": 64,
     "metadata": {},
     "output_type": "execute_result"
    }
   ],
   "source": [
    "array.shape"
   ]
  },
  {
   "cell_type": "code",
   "execution_count": 66,
   "id": "cf2c14aa",
   "metadata": {},
   "outputs": [
    {
     "data": {
      "text/plain": [
       "(array([ 1.   ,  2.125,  3.25 ,  4.375,  5.5  ,  6.625,  7.75 ,  8.875,\n",
       "        10.   ]),\n",
       " 1.125)"
      ]
     },
     "execution_count": 66,
     "metadata": {},
     "output_type": "execute_result"
    }
   ],
   "source": [
    "array = np.linspace(1,10,9,retstep=True)\n",
    "array"
   ]
  },
  {
   "cell_type": "markdown",
   "id": "d77b547e",
   "metadata": {},
   "source": [
    "####  <span style = 'color:rgb(77,119,207)'>[</span> np.eye()<span style ='color:rgb(77,119,207)'>]</span>"
   ]
  },
  {
   "cell_type": "markdown",
   "id": "5cd0c757",
   "metadata": {},
   "source": [
    "<div class= 'alert alert-block alert-info'> \n",
    "It will return an array with ones on diagonal and zeros elsewhere\n",
    "\n",
    "</div>"
   ]
  },
  {
   "cell_type": "code",
   "execution_count": 67,
   "id": "72328ed7",
   "metadata": {},
   "outputs": [
    {
     "data": {
      "text/plain": [
       "array([[1., 0., 0., 0., 0., 0., 0.],\n",
       "       [0., 1., 0., 0., 0., 0., 0.],\n",
       "       [0., 0., 1., 0., 0., 0., 0.],\n",
       "       [0., 0., 0., 1., 0., 0., 0.],\n",
       "       [0., 0., 0., 0., 1., 0., 0.],\n",
       "       [0., 0., 0., 0., 0., 1., 0.],\n",
       "       [0., 0., 0., 0., 0., 0., 1.]])"
      ]
     },
     "execution_count": 67,
     "metadata": {},
     "output_type": "execute_result"
    }
   ],
   "source": [
    "array = np.eye(7)\n",
    "array"
   ]
  },
  {
   "cell_type": "code",
   "execution_count": 69,
   "id": "58979f80",
   "metadata": {},
   "outputs": [
    {
     "data": {
      "text/plain": [
       "array([[1, 0, 0, 0, 0],\n",
       "       [0, 1, 0, 0, 0],\n",
       "       [0, 0, 1, 0, 0],\n",
       "       [0, 0, 0, 1, 0],\n",
       "       [0, 0, 0, 0, 1]])"
      ]
     },
     "execution_count": 69,
     "metadata": {},
     "output_type": "execute_result"
    }
   ],
   "source": [
    "array = np.eye(5,dtype=int)\n",
    "array"
   ]
  },
  {
   "cell_type": "code",
   "execution_count": 70,
   "id": "56140d00",
   "metadata": {},
   "outputs": [
    {
     "data": {
      "text/plain": [
       "array([[1, 0, 0],\n",
       "       [0, 1, 0]])"
      ]
     },
     "execution_count": 70,
     "metadata": {},
     "output_type": "execute_result"
    }
   ],
   "source": [
    "array = np.eye(2,3,dtype=int)\n",
    "array"
   ]
  },
  {
   "cell_type": "markdown",
   "id": "6a8c9725",
   "metadata": {},
   "source": [
    "####  <span style = 'color:rgb(77,119,207)'>[</span> np.identity()<span style ='color:rgb(77,119,207)'>]</span>"
   ]
  },
  {
   "cell_type": "code",
   "execution_count": 71,
   "id": "2498d0d3",
   "metadata": {},
   "outputs": [
    {
     "data": {
      "text/plain": [
       "array([[1., 0., 0., 0., 0., 0., 0.],\n",
       "       [0., 1., 0., 0., 0., 0., 0.],\n",
       "       [0., 0., 1., 0., 0., 0., 0.],\n",
       "       [0., 0., 0., 1., 0., 0., 0.],\n",
       "       [0., 0., 0., 0., 1., 0., 0.],\n",
       "       [0., 0., 0., 0., 0., 1., 0.],\n",
       "       [0., 0., 0., 0., 0., 0., 1.]])"
      ]
     },
     "execution_count": 71,
     "metadata": {},
     "output_type": "execute_result"
    }
   ],
   "source": [
    "array = np.identity(7)\n",
    "array"
   ]
  },
  {
   "cell_type": "markdown",
   "id": "9b3fc2b7",
   "metadata": {},
   "source": [
    "####  <span style = 'color:rgb(77,119,207)'>[</span> np.random<span style ='color:rgb(77,119,207)'>]</span>"
   ]
  },
  {
   "cell_type": "markdown",
   "id": "b99dbb8d",
   "metadata": {},
   "source": [
    "#####  <span style = 'color:rgb(77,119,207)'>-</span> np.random.rand()<span style ='color:rgb(77,119,207)'>-</span>"
   ]
  },
  {
   "cell_type": "markdown",
   "id": "5f117364",
   "metadata": {},
   "source": [
    "<div class= 'alert alert-block alert-info'> \n",
    "Returns random value between 0 to 1\n",
    "\n",
    "</div>"
   ]
  },
  {
   "cell_type": "code",
   "execution_count": 3,
   "id": "8ff9f314",
   "metadata": {},
   "outputs": [
    {
     "data": {
      "text/plain": [
       "array([0.37605494, 0.05424089, 0.28521194, 0.11582678, 0.86364107])"
      ]
     },
     "execution_count": 3,
     "metadata": {},
     "output_type": "execute_result"
    }
   ],
   "source": [
    "array = np.random.rand(5)\n",
    "array"
   ]
  },
  {
   "cell_type": "code",
   "execution_count": 4,
   "id": "0ec21bc3",
   "metadata": {},
   "outputs": [
    {
     "data": {
      "text/plain": [
       "array([[0.85492505, 0.44630855, 0.67302252],\n",
       "       [0.99939859, 0.46839304, 0.048992  ],\n",
       "       [0.28161936, 0.28490926, 0.85992012]])"
      ]
     },
     "execution_count": 4,
     "metadata": {},
     "output_type": "execute_result"
    }
   ],
   "source": [
    "array = np.random.rand(3,3)\n",
    "array"
   ]
  },
  {
   "cell_type": "code",
   "execution_count": 5,
   "id": "21782968",
   "metadata": {},
   "outputs": [
    {
     "data": {
      "text/plain": [
       "array([[[0.94022023, 0.97715716, 0.71890543],\n",
       "        [0.98444123, 0.25839078, 0.75004805]],\n",
       "\n",
       "       [[0.52442561, 0.04293722, 0.66878856],\n",
       "        [0.76821837, 0.99191887, 0.21501781]]])"
      ]
     },
     "execution_count": 5,
     "metadata": {},
     "output_type": "execute_result"
    }
   ],
   "source": [
    "array = np.random.rand(2,2,3)\n",
    "array"
   ]
  },
  {
   "cell_type": "markdown",
   "id": "fdc58dab",
   "metadata": {},
   "source": [
    "#####  <span style = 'color:rgb(77,119,207)'>-</span> np.random.randint()<span style ='color:rgb(77,119,207)'>-</span>"
   ]
  },
  {
   "cell_type": "markdown",
   "id": "27fef76a",
   "metadata": {},
   "source": [
    "<div class= 'alert alert-block alert-info'>\n",
    "    \n",
    "* It allows you to generate random integers within a specified range or within a given size.\n",
    "\n",
    "    \n",
    "[np.random.randint(low, high=None, size=None, dtype=int)]\n",
    "\n",
    "* low: The lowest (inclusive) integer in the range.\n",
    "* high: If specified, generates integers from low to high-1. If not specified, generates integers from 0 to low-1.\n",
    "* size: The shape of the output. If None, a single integer is generated. If an integer or tuple of integers, specifies the shape of the output array.\n",
    "* dtype: The data type of the output array.\n",
    "\n",
    "</div>"
   ]
  },
  {
   "cell_type": "code",
   "execution_count": 7,
   "id": "7ff641ec",
   "metadata": {},
   "outputs": [
    {
     "data": {
      "text/plain": [
       "array([6, 6, 9, 6, 7, 5, 9, 9, 8, 8, 5, 5, 9, 6, 7])"
      ]
     },
     "execution_count": 7,
     "metadata": {},
     "output_type": "execute_result"
    }
   ],
   "source": [
    "array = np.random.randint(5,10,size=15)\n",
    "array"
   ]
  },
  {
   "cell_type": "code",
   "execution_count": 3,
   "id": "a3c7229d",
   "metadata": {},
   "outputs": [
    {
     "data": {
      "text/plain": [
       "array([[5, 7, 6, 5],\n",
       "       [8, 9, 9, 8],\n",
       "       [6, 9, 5, 5]])"
      ]
     },
     "execution_count": 3,
     "metadata": {},
     "output_type": "execute_result"
    }
   ],
   "source": [
    "array = np.random.randint(5,10,size=(3,4))\n",
    "array"
   ]
  },
  {
   "cell_type": "markdown",
   "id": "64243aa0",
   "metadata": {},
   "source": [
    "#####  <span style = 'color:rgb(77,119,207)'>-</span> np.random.randn()<span style ='color:rgb(77,119,207)'>-</span>"
   ]
  },
  {
   "cell_type": "markdown",
   "id": "e7729aed",
   "metadata": {},
   "source": [
    "<div class= 'alert alert-block alert-info'>\n",
    "\n",
    "return normally distributed values\n",
    "</div>"
   ]
  },
  {
   "cell_type": "code",
   "execution_count": 4,
   "id": "25f7d208",
   "metadata": {},
   "outputs": [
    {
     "data": {
      "text/plain": [
       "array([-0.60795106,  0.52110845, -0.73540809,  0.72073717,  0.84934583,\n",
       "       -0.89547673,  0.48506321, -2.62611109, -2.16777476,  0.31897914])"
      ]
     },
     "execution_count": 4,
     "metadata": {},
     "output_type": "execute_result"
    }
   ],
   "source": [
    "array = np.random.randn(10)\n",
    "array"
   ]
  },
  {
   "cell_type": "code",
   "execution_count": 5,
   "id": "e74c801e",
   "metadata": {},
   "outputs": [
    {
     "data": {
      "text/plain": [
       "array([[ 0.22058125,  0.89573503,  0.08257251,  1.60840356],\n",
       "       [-1.03045097,  2.24805855,  1.65232449, -1.36996898],\n",
       "       [-0.4173747 , -0.32532321, -0.08093961, -0.93440114]])"
      ]
     },
     "execution_count": 5,
     "metadata": {},
     "output_type": "execute_result"
    }
   ],
   "source": [
    "array = np.random.randn(3,4)\n",
    "array"
   ]
  },
  {
   "cell_type": "markdown",
   "id": "fc0df49e",
   "metadata": {},
   "source": [
    "#####  <span style = 'color:rgb(77,119,207)'>-</span> np.random.ranf()<span style ='color:rgb(77,119,207)'>-</span>"
   ]
  },
  {
   "cell_type": "markdown",
   "id": "556177d6",
   "metadata": {},
   "source": [
    "<div class= 'alert alert-block alert-info'>\n",
    "    \n",
    "returns random values between 0 to 1\n",
    "\n",
    "</div>"
   ]
  },
  {
   "cell_type": "code",
   "execution_count": 6,
   "id": "0bb022f6",
   "metadata": {},
   "outputs": [
    {
     "data": {
      "text/plain": [
       "array([0.31549021, 0.35168872, 0.4292745 , 0.41750788])"
      ]
     },
     "execution_count": 6,
     "metadata": {},
     "output_type": "execute_result"
    }
   ],
   "source": [
    "array = np.random.ranf(4)\n",
    "array"
   ]
  },
  {
   "cell_type": "markdown",
   "id": "60160e90",
   "metadata": {},
   "source": [
    "####  <span style = 'color:rgb(77,119,207)'>[</span> Creating Dataframe Using Functions <span style ='color:rgb(77,119,207)'>]</span>"
   ]
  },
  {
   "cell_type": "code",
   "execution_count": 10,
   "id": "ed1187dd",
   "metadata": {},
   "outputs": [
    {
     "data": {
      "text/html": [
       "<div>\n",
       "<style scoped>\n",
       "    .dataframe tbody tr th:only-of-type {\n",
       "        vertical-align: middle;\n",
       "    }\n",
       "\n",
       "    .dataframe tbody tr th {\n",
       "        vertical-align: top;\n",
       "    }\n",
       "\n",
       "    .dataframe thead th {\n",
       "        text-align: right;\n",
       "    }\n",
       "</style>\n",
       "<table border=\"1\" class=\"dataframe\">\n",
       "  <thead>\n",
       "    <tr style=\"text-align: right;\">\n",
       "      <th></th>\n",
       "      <th>Zeros</th>\n",
       "      <th>Ones</th>\n",
       "      <th>Arange</th>\n",
       "      <th>Linspace</th>\n",
       "      <th>Randint</th>\n",
       "      <th>Randn</th>\n",
       "    </tr>\n",
       "  </thead>\n",
       "  <tbody>\n",
       "    <tr>\n",
       "      <th>0</th>\n",
       "      <td>0</td>\n",
       "      <td>1</td>\n",
       "      <td>101</td>\n",
       "      <td>10.000000</td>\n",
       "      <td>30</td>\n",
       "      <td>0.543593</td>\n",
       "    </tr>\n",
       "    <tr>\n",
       "      <th>1</th>\n",
       "      <td>0</td>\n",
       "      <td>1</td>\n",
       "      <td>102</td>\n",
       "      <td>31.111111</td>\n",
       "      <td>21</td>\n",
       "      <td>-0.786641</td>\n",
       "    </tr>\n",
       "    <tr>\n",
       "      <th>2</th>\n",
       "      <td>0</td>\n",
       "      <td>1</td>\n",
       "      <td>103</td>\n",
       "      <td>52.222222</td>\n",
       "      <td>34</td>\n",
       "      <td>0.243980</td>\n",
       "    </tr>\n",
       "    <tr>\n",
       "      <th>3</th>\n",
       "      <td>0</td>\n",
       "      <td>1</td>\n",
       "      <td>104</td>\n",
       "      <td>73.333333</td>\n",
       "      <td>45</td>\n",
       "      <td>-0.860107</td>\n",
       "    </tr>\n",
       "    <tr>\n",
       "      <th>4</th>\n",
       "      <td>0</td>\n",
       "      <td>1</td>\n",
       "      <td>105</td>\n",
       "      <td>94.444444</td>\n",
       "      <td>43</td>\n",
       "      <td>0.874472</td>\n",
       "    </tr>\n",
       "    <tr>\n",
       "      <th>5</th>\n",
       "      <td>0</td>\n",
       "      <td>1</td>\n",
       "      <td>106</td>\n",
       "      <td>115.555556</td>\n",
       "      <td>24</td>\n",
       "      <td>-0.451895</td>\n",
       "    </tr>\n",
       "    <tr>\n",
       "      <th>6</th>\n",
       "      <td>0</td>\n",
       "      <td>1</td>\n",
       "      <td>107</td>\n",
       "      <td>136.666667</td>\n",
       "      <td>38</td>\n",
       "      <td>0.015977</td>\n",
       "    </tr>\n",
       "    <tr>\n",
       "      <th>7</th>\n",
       "      <td>0</td>\n",
       "      <td>1</td>\n",
       "      <td>108</td>\n",
       "      <td>157.777778</td>\n",
       "      <td>37</td>\n",
       "      <td>0.497650</td>\n",
       "    </tr>\n",
       "    <tr>\n",
       "      <th>8</th>\n",
       "      <td>0</td>\n",
       "      <td>1</td>\n",
       "      <td>109</td>\n",
       "      <td>178.888889</td>\n",
       "      <td>30</td>\n",
       "      <td>-0.823799</td>\n",
       "    </tr>\n",
       "    <tr>\n",
       "      <th>9</th>\n",
       "      <td>0</td>\n",
       "      <td>1</td>\n",
       "      <td>110</td>\n",
       "      <td>200.000000</td>\n",
       "      <td>24</td>\n",
       "      <td>-1.658608</td>\n",
       "    </tr>\n",
       "  </tbody>\n",
       "</table>\n",
       "</div>"
      ],
      "text/plain": [
       "   Zeros  Ones  Arange    Linspace  Randint     Randn\n",
       "0      0     1     101   10.000000       30  0.543593\n",
       "1      0     1     102   31.111111       21 -0.786641\n",
       "2      0     1     103   52.222222       34  0.243980\n",
       "3      0     1     104   73.333333       45 -0.860107\n",
       "4      0     1     105   94.444444       43  0.874472\n",
       "5      0     1     106  115.555556       24 -0.451895\n",
       "6      0     1     107  136.666667       38  0.015977\n",
       "7      0     1     108  157.777778       37  0.497650\n",
       "8      0     1     109  178.888889       30 -0.823799\n",
       "9      0     1     110  200.000000       24 -1.658608"
      ]
     },
     "execution_count": 10,
     "metadata": {},
     "output_type": "execute_result"
    }
   ],
   "source": [
    "dict1 = {'Zeros': np.zeros(10,dtype=int),\n",
    "        'Ones': np.ones(10,dtype=int),\n",
    "        'Arange': np.arange(101,111),\n",
    "        'Linspace': np.linspace(10,200, num=10),\n",
    "        'Randint': np.random.randint(20,50,size=10),\n",
    "        'Randn': np.random.randn(10)}\n",
    "\n",
    "df = pd.DataFrame(dict1)\n",
    "df"
   ]
  },
  {
   "cell_type": "markdown",
   "id": "c57071df",
   "metadata": {},
   "source": [
    "####  <span style = 'color:rgb(77,119,207)'>[</span> np.sort<span style ='color:rgb(77,119,207)'>]</span>"
   ]
  },
  {
   "cell_type": "code",
   "execution_count": 11,
   "id": "6d9ecfec",
   "metadata": {},
   "outputs": [
    {
     "name": "stdout",
     "output_type": "stream",
     "text": [
      "Original Array : [ 3  4  6 71  3  1]\n",
      "Sorted Array : [ 1  3  3  4  6 71]\n"
     ]
    }
   ],
   "source": [
    "array = np.array([3,4,6,71,3,1])\n",
    "print(\"Original Array :\", array)\n",
    "new_array = np.sort(array)\n",
    "print(\"Sorted Array :\", new_array)"
   ]
  },
  {
   "cell_type": "markdown",
   "id": "014c4d3f",
   "metadata": {},
   "source": [
    "####  <span style = 'color:rgb(77,119,207)'>[</span> np.where <span style ='color:rgb(77,119,207)'>]</span>"
   ]
  },
  {
   "cell_type": "markdown",
   "id": "89b3da09",
   "metadata": {},
   "source": [
    "<div class= 'alert alert-block alert-info'>\n",
    "\n",
    "* np.where(condition)\n",
    "    \n",
    "* returns indices where condition is true\n",
    "</div>"
   ]
  },
  {
   "cell_type": "code",
   "execution_count": 36,
   "id": "88cc599e",
   "metadata": {},
   "outputs": [
    {
     "data": {
      "text/plain": [
       "array([5, 6, 7, 4, 2, 1, 4, 6, 7])"
      ]
     },
     "execution_count": 36,
     "metadata": {},
     "output_type": "execute_result"
    }
   ],
   "source": [
    "array = np.array([5,6,7,4,2,1,4,6,7])\n",
    "array"
   ]
  },
  {
   "cell_type": "code",
   "execution_count": 37,
   "id": "e5263dc1",
   "metadata": {},
   "outputs": [
    {
     "data": {
      "text/plain": [
       "(array([4], dtype=int64),)"
      ]
     },
     "execution_count": 37,
     "metadata": {},
     "output_type": "execute_result"
    }
   ],
   "source": [
    "np.where(array==2)"
   ]
  },
  {
   "cell_type": "code",
   "execution_count": 38,
   "id": "3c971caa",
   "metadata": {},
   "outputs": [
    {
     "data": {
      "text/plain": [
       "(array([0, 1, 2, 3, 6, 7, 8], dtype=int64),)"
      ]
     },
     "execution_count": 38,
     "metadata": {},
     "output_type": "execute_result"
    }
   ],
   "source": [
    "np.where(array >3)"
   ]
  },
  {
   "cell_type": "code",
   "execution_count": 40,
   "id": "deced8a1",
   "metadata": {},
   "outputs": [
    {
     "data": {
      "text/plain": [
       "[0, 1, 2, 7, 8]"
      ]
     },
     "execution_count": 40,
     "metadata": {},
     "output_type": "execute_result"
    }
   ],
   "source": [
    "np.where(array >=5)[0].tolist()"
   ]
  },
  {
   "cell_type": "markdown",
   "id": "d6533be8",
   "metadata": {},
   "source": [
    "####  <span style = 'color:rgb(77,119,207)'>[</span> np.full <span style ='color:rgb(77,119,207)'>]</span>"
   ]
  },
  {
   "cell_type": "code",
   "execution_count": 2,
   "id": "974a2fe9",
   "metadata": {},
   "outputs": [
    {
     "data": {
      "text/plain": [
       "array([[6, 6, 6, 6],\n",
       "       [6, 6, 6, 6],\n",
       "       [6, 6, 6, 6]])"
      ]
     },
     "execution_count": 2,
     "metadata": {},
     "output_type": "execute_result"
    }
   ],
   "source": [
    "array = np.full((3,4),6)\n",
    "array"
   ]
  },
  {
   "cell_type": "code",
   "execution_count": 3,
   "id": "4f6663a3",
   "metadata": {},
   "outputs": [
    {
     "data": {
      "text/plain": [
       "array([[[1, 1, 1],\n",
       "        [1, 1, 1]],\n",
       "\n",
       "       [[1, 1, 1],\n",
       "        [1, 1, 1]]])"
      ]
     },
     "execution_count": 3,
     "metadata": {},
     "output_type": "execute_result"
    }
   ],
   "source": [
    "array = np.full((2,2,3),1)\n",
    "array"
   ]
  },
  {
   "cell_type": "markdown",
   "id": "c720db62",
   "metadata": {},
   "source": [
    "## <span style='color:rgb(77,119,207)'>Join Arrays </span>"
   ]
  },
  {
   "cell_type": "markdown",
   "id": "1a6b7ac4",
   "metadata": {},
   "source": [
    "####  <span style = 'color:rgb(77,119,207)'>[</span> np.append <span style ='color:rgb(77,119,207)'>]</span>"
   ]
  },
  {
   "cell_type": "markdown",
   "id": "14f86ecf",
   "metadata": {},
   "source": [
    "<div class= 'alert alert-block alert-info'>\n",
    "    \n",
    "np.append(array1, array2/value, axis=0/1)\n",
    "\n",
    "</div>"
   ]
  },
  {
   "cell_type": "code",
   "execution_count": 12,
   "id": "6e379936",
   "metadata": {},
   "outputs": [
    {
     "data": {
      "text/plain": [
       "array([1, 2, 3, 4, 5, 6])"
      ]
     },
     "execution_count": 12,
     "metadata": {},
     "output_type": "execute_result"
    }
   ],
   "source": [
    "array1 = np.array([1,2,3])\n",
    "array2 = np.array([4,5,6])\n",
    "new_array = np.append(array1,array2)\n",
    "new_array"
   ]
  },
  {
   "cell_type": "code",
   "execution_count": 13,
   "id": "7bd0b695",
   "metadata": {},
   "outputs": [
    {
     "data": {
      "text/plain": [
       "array([  1,   2,   3, 100])"
      ]
     },
     "execution_count": 13,
     "metadata": {},
     "output_type": "execute_result"
    }
   ],
   "source": [
    "next_array = np.append(array1, 100)\n",
    "next_array"
   ]
  },
  {
   "cell_type": "code",
   "execution_count": 16,
   "id": "07f30693",
   "metadata": {},
   "outputs": [
    {
     "name": "stdout",
     "output_type": "stream",
     "text": [
      "array 1 :\n",
      " [[2 3]\n",
      " [4 5]]\n",
      "array 2 :\n",
      " [[6 7 8]\n",
      " [7 3 1]\n",
      " [6 2 3]]\n",
      "New array :\n",
      " [2 3 4 5 6 7 8 7 3 1 6 2 3]\n"
     ]
    }
   ],
   "source": [
    "array1 = np.array([[2,3],[4,5]])\n",
    "array2 = np.array([[6,7,8],[7,3,1],[6,2,3]])\n",
    "\n",
    "print(\"array 1 :\\n\",array1)\n",
    "print(\"array 2 :\\n\",array2)\n",
    "\n",
    "new_array = np.append(array1,array2)\n",
    "print(\"New array :\\n\",new_array)"
   ]
  },
  {
   "cell_type": "code",
   "execution_count": 18,
   "id": "c7d34690",
   "metadata": {},
   "outputs": [
    {
     "name": "stdout",
     "output_type": "stream",
     "text": [
      "array 1 :\n",
      " [[2 3]\n",
      " [4 5]]\n",
      "array 2 :\n",
      " [[6 7]\n",
      " [7 3]]\n",
      "New array :\n",
      " [[2 3]\n",
      " [4 5]\n",
      " [6 7]\n",
      " [7 3]]\n"
     ]
    }
   ],
   "source": [
    "#appending rows\n",
    "array1 = np.array([[2,3],[4,5]])\n",
    "array2 = np.array([[6,7],[7,3]])\n",
    "\n",
    "print(\"array 1 :\\n\",array1)\n",
    "print(\"array 2 :\\n\",array2)\n",
    "\n",
    "new_array = np.append(array1,array2,axis=0)\n",
    "print(\"New array :\\n\",new_array)"
   ]
  },
  {
   "cell_type": "code",
   "execution_count": 20,
   "id": "31b44c30",
   "metadata": {},
   "outputs": [
    {
     "name": "stdout",
     "output_type": "stream",
     "text": [
      "array 1 :\n",
      " [[2 3]\n",
      " [4 5]]\n",
      "array 2 :\n",
      " [[6 7 1]\n",
      " [7 3 1]]\n",
      "New array :\n",
      " [[2 3 6 7 1]\n",
      " [4 5 7 3 1]]\n"
     ]
    }
   ],
   "source": [
    "#appending columns\n",
    "array1 = np.array([[2,3],[4,5]])\n",
    "array2 = np.array([[6,7,1],[7,3,1]])\n",
    "\n",
    "print(\"array 1 :\\n\",array1)\n",
    "print(\"array 2 :\\n\",array2)\n",
    "\n",
    "new_array = np.append(array1,array2,axis=1)\n",
    "print(\"New array :\\n\",new_array)"
   ]
  },
  {
   "cell_type": "markdown",
   "id": "3bb39eeb",
   "metadata": {},
   "source": [
    "####  <span style = 'color:rgb(77,119,207)'>[</span> np.concatenate <span style ='color:rgb(77,119,207)'>]</span>"
   ]
  },
  {
   "cell_type": "markdown",
   "id": "e192579a",
   "metadata": {},
   "source": [
    "<div class= 'alert alert-block alert-info'>\n",
    "np.concatenate([array1,array2],axis=0)\n",
    "\n",
    "</div>"
   ]
  },
  {
   "cell_type": "code",
   "execution_count": 21,
   "id": "91dde9a7",
   "metadata": {},
   "outputs": [
    {
     "name": "stdout",
     "output_type": "stream",
     "text": [
      "Array 1:\n",
      " [[2 3]\n",
      " [4 5]]\n",
      "Array 2:\n",
      " [[200 300]\n",
      " [400 500]]\n",
      "New Array :\n",
      " [[  2   3]\n",
      " [  4   5]\n",
      " [200 300]\n",
      " [400 500]]\n"
     ]
    }
   ],
   "source": [
    "array1 = np.array([[2,3],[4,5]])\n",
    "array2 = np.array([[200,300],[400,500]])\n",
    "new_array = np.concatenate([array1,array2],axis=0)\n",
    "\n",
    "print(\"Array 1:\\n\",array1)\n",
    "print(\"Array 2:\\n\",array2)\n",
    "print(\"New Array :\\n\",new_array)"
   ]
  },
  {
   "cell_type": "code",
   "execution_count": 22,
   "id": "9085b067",
   "metadata": {},
   "outputs": [
    {
     "name": "stdout",
     "output_type": "stream",
     "text": [
      "Array 1:\n",
      " [[2 3]\n",
      " [4 5]]\n",
      "Array 2:\n",
      " [[200 300]\n",
      " [400 500]]\n",
      "New Array :\n",
      " [[  2   3 200 300]\n",
      " [  4   5 400 500]]\n"
     ]
    }
   ],
   "source": [
    "array1 = np.array([[2,3],[4,5]])\n",
    "array2 = np.array([[200,300],[400,500]])\n",
    "new_array = np.concatenate([array1,array2],axis=1)\n",
    "\n",
    "print(\"Array 1:\\n\",array1)\n",
    "print(\"Array 2:\\n\",array2)\n",
    "print(\"New Array :\\n\",new_array)"
   ]
  },
  {
   "cell_type": "code",
   "execution_count": 23,
   "id": "87a2207a",
   "metadata": {},
   "outputs": [
    {
     "name": "stdout",
     "output_type": "stream",
     "text": [
      "Array 1:\n",
      " [[2 3]\n",
      " [4 5]]\n",
      "Array 2:\n",
      " [[200 300]\n",
      " [400 500]]\n",
      "Array 3:\n",
      " [[3 3]\n",
      " [5 6]]\n",
      "New Array :\n",
      " [[  2   3]\n",
      " [  4   5]\n",
      " [200 300]\n",
      " [400 500]\n",
      " [  3   3]\n",
      " [  5   6]]\n"
     ]
    }
   ],
   "source": [
    "array1 = np.array([[2,3],[4,5]])\n",
    "array2 = np.array([[200,300],[400,500]])\n",
    "array3 = np.array([[3,3],[5,6]])\n",
    "new_array = np.concatenate([array1,array2,array3],axis=0)\n",
    "\n",
    "print(\"Array 1:\\n\",array1)\n",
    "print(\"Array 2:\\n\",array2)\n",
    "print(\"Array 3:\\n\",array3)\n",
    "print(\"New Array :\\n\",new_array)"
   ]
  },
  {
   "cell_type": "code",
   "execution_count": 25,
   "id": "f81aeee6",
   "metadata": {},
   "outputs": [
    {
     "name": "stdout",
     "output_type": "stream",
     "text": [
      "Array 1:\n",
      " [[2 3]\n",
      " [4 5]]\n",
      "Array 2:\n",
      " [[200 300]\n",
      " [400 500]\n",
      " [600 700]]\n",
      "Array 3:\n",
      " [[3 3]\n",
      " [5 6]]\n",
      "New Array :\n",
      " [[  2   3]\n",
      " [  4   5]\n",
      " [200 300]\n",
      " [400 500]\n",
      " [600 700]\n",
      " [  3   3]\n",
      " [  5   6]]\n",
      "(7, 2)\n"
     ]
    }
   ],
   "source": [
    "array1 = np.array([[2,3],[4,5]]) #2X2\n",
    "array2 = np.array([[200,300],[400,500],[600,700]]) #3X2\n",
    "array3 = np.array([[3,3],[5,6]])\n",
    "new_array = np.concatenate([array1,array2,array3],axis=0)\n",
    "\n",
    "print(\"Array 1:\\n\",array1)\n",
    "print(\"Array 2:\\n\",array2)\n",
    "print(\"Array 3:\\n\",array3)\n",
    "print(\"New Array :\\n\",new_array)\n",
    "print(new_array.shape)"
   ]
  },
  {
   "cell_type": "markdown",
   "id": "5dcde748",
   "metadata": {},
   "source": [
    "## <span style='color:rgb(77,119,207)'> Convert Array to List </span>"
   ]
  },
  {
   "cell_type": "code",
   "execution_count": 41,
   "id": "7d190d53",
   "metadata": {},
   "outputs": [
    {
     "data": {
      "text/plain": [
       "array([10, 14, 12, 17, 13, 12, 15, 10, 13, 17])"
      ]
     },
     "execution_count": 41,
     "metadata": {},
     "output_type": "execute_result"
    }
   ],
   "source": [
    "array = np.random.randint(10,20,size=10)\n",
    "array"
   ]
  },
  {
   "cell_type": "code",
   "execution_count": 42,
   "id": "1c18a121",
   "metadata": {},
   "outputs": [
    {
     "data": {
      "text/plain": [
       "[10, 14, 12, 17, 13, 12, 15, 10, 13, 17]"
      ]
     },
     "execution_count": 42,
     "metadata": {},
     "output_type": "execute_result"
    }
   ],
   "source": [
    "list(array)"
   ]
  },
  {
   "cell_type": "code",
   "execution_count": 43,
   "id": "e915f2b2",
   "metadata": {},
   "outputs": [
    {
     "data": {
      "text/plain": [
       "[10, 14, 12, 17, 13, 12, 15, 10, 13, 17]"
      ]
     },
     "execution_count": 43,
     "metadata": {},
     "output_type": "execute_result"
    }
   ],
   "source": [
    "array.tolist()"
   ]
  },
  {
   "cell_type": "markdown",
   "id": "a1315504",
   "metadata": {},
   "source": [
    "## <span style='color:rgb(77,119,207)'> Numerical Operations </span>"
   ]
  },
  {
   "cell_type": "markdown",
   "id": "d4c51811",
   "metadata": {},
   "source": [
    "####  <span style = 'color:rgb(77,119,207)'>[</span> np.ceil <span style ='color:rgb(77,119,207)'>]</span>"
   ]
  },
  {
   "cell_type": "code",
   "execution_count": 29,
   "id": "c79598ea",
   "metadata": {},
   "outputs": [
    {
     "data": {
      "text/plain": [
       "9.0"
      ]
     },
     "execution_count": 29,
     "metadata": {},
     "output_type": "execute_result"
    }
   ],
   "source": [
    "np.ceil(8.1)"
   ]
  },
  {
   "cell_type": "code",
   "execution_count": 27,
   "id": "75f8c521",
   "metadata": {},
   "outputs": [
    {
     "data": {
      "text/plain": [
       "10.0"
      ]
     },
     "execution_count": 27,
     "metadata": {},
     "output_type": "execute_result"
    }
   ],
   "source": [
    "np.ceil(9.5)"
   ]
  },
  {
   "cell_type": "code",
   "execution_count": 28,
   "id": "07f04bdd",
   "metadata": {},
   "outputs": [
    {
     "data": {
      "text/plain": [
       "array([3., 4., 6., 8.])"
      ]
     },
     "execution_count": 28,
     "metadata": {},
     "output_type": "execute_result"
    }
   ],
   "source": [
    "np.ceil([3,4,5.6,7.3])"
   ]
  },
  {
   "cell_type": "markdown",
   "id": "8ee69695",
   "metadata": {},
   "source": [
    "####  <span style = 'color:rgb(77,119,207)'>[</span> np.floor <span style ='color:rgb(77,119,207)'>]</span>"
   ]
  },
  {
   "cell_type": "code",
   "execution_count": 30,
   "id": "2a0a7abd",
   "metadata": {},
   "outputs": [
    {
     "data": {
      "text/plain": [
       "8.0"
      ]
     },
     "execution_count": 30,
     "metadata": {},
     "output_type": "execute_result"
    }
   ],
   "source": [
    "np.floor(8.1)"
   ]
  },
  {
   "cell_type": "code",
   "execution_count": 31,
   "id": "39332f3e",
   "metadata": {},
   "outputs": [
    {
     "data": {
      "text/plain": [
       "9.0"
      ]
     },
     "execution_count": 31,
     "metadata": {},
     "output_type": "execute_result"
    }
   ],
   "source": [
    "np.floor(9.5)"
   ]
  },
  {
   "cell_type": "code",
   "execution_count": 32,
   "id": "4d166604",
   "metadata": {},
   "outputs": [
    {
     "data": {
      "text/plain": [
       "array([5., 7., 1.])"
      ]
     },
     "execution_count": 32,
     "metadata": {},
     "output_type": "execute_result"
    }
   ],
   "source": [
    "np.floor([5.6,7.9,1.2])"
   ]
  },
  {
   "cell_type": "markdown",
   "id": "978623eb",
   "metadata": {},
   "source": [
    "####  <span style = 'color:rgb(77,119,207)'>[</span> np.around <span style ='color:rgb(77,119,207)'>]</span>"
   ]
  },
  {
   "cell_type": "code",
   "execution_count": 33,
   "id": "c9272fb9",
   "metadata": {},
   "outputs": [
    {
     "data": {
      "text/plain": [
       "34.57"
      ]
     },
     "execution_count": 33,
     "metadata": {},
     "output_type": "execute_result"
    }
   ],
   "source": [
    "np.around(34.5678632,2)"
   ]
  },
  {
   "cell_type": "code",
   "execution_count": 34,
   "id": "fba78e5a",
   "metadata": {},
   "outputs": [
    {
     "data": {
      "text/plain": [
       "array([45.7, 34.7, 21.3])"
      ]
     },
     "execution_count": 34,
     "metadata": {},
     "output_type": "execute_result"
    }
   ],
   "source": [
    "np.around([45.679653,34.6986533,21.3455322],1)"
   ]
  },
  {
   "cell_type": "markdown",
   "id": "53891c33",
   "metadata": {},
   "source": [
    "####  <span style = 'color:rgb(77,119,207)'>[</span> np.sqrt <span style ='color:rgb(77,119,207)'>]</span>"
   ]
  },
  {
   "cell_type": "code",
   "execution_count": 4,
   "id": "0acb1224",
   "metadata": {},
   "outputs": [
    {
     "data": {
      "text/plain": [
       "6.0"
      ]
     },
     "execution_count": 4,
     "metadata": {},
     "output_type": "execute_result"
    }
   ],
   "source": [
    "np.sqrt(36)"
   ]
  },
  {
   "cell_type": "code",
   "execution_count": 5,
   "id": "f3639095",
   "metadata": {},
   "outputs": [
    {
     "data": {
      "text/plain": [
       "array([2.        , 5.        , 6.08276253, 8.18535277])"
      ]
     },
     "execution_count": 5,
     "metadata": {},
     "output_type": "execute_result"
    }
   ],
   "source": [
    "np.sqrt([4,25,37,67])"
   ]
  },
  {
   "cell_type": "markdown",
   "id": "e4b07e75",
   "metadata": {},
   "source": [
    "####  <span style = 'color:rgb(77,119,207)'>[</span> np.cbrt <span style ='color:rgb(77,119,207)'>]</span>"
   ]
  },
  {
   "cell_type": "code",
   "execution_count": 6,
   "id": "47cb5ef7",
   "metadata": {},
   "outputs": [
    {
     "data": {
      "text/plain": [
       "2.519842099789746"
      ]
     },
     "execution_count": 6,
     "metadata": {},
     "output_type": "execute_result"
    }
   ],
   "source": [
    "np.cbrt(16)"
   ]
  },
  {
   "cell_type": "code",
   "execution_count": 8,
   "id": "73517b58",
   "metadata": {},
   "outputs": [
    {
     "data": {
      "text/plain": [
       "array([3.       , 4.0816551, 5.       ])"
      ]
     },
     "execution_count": 8,
     "metadata": {},
     "output_type": "execute_result"
    }
   ],
   "source": [
    "np.cbrt([27,68,125])"
   ]
  },
  {
   "cell_type": "markdown",
   "id": "59aed12f",
   "metadata": {},
   "source": [
    "####  <span style = 'color:rgb(77,119,207)'>[</span> np.sum <span style ='color:rgb(77,119,207)'>]</span>"
   ]
  },
  {
   "cell_type": "code",
   "execution_count": 9,
   "id": "a3231da6",
   "metadata": {},
   "outputs": [
    {
     "data": {
      "text/plain": [
       "14"
      ]
     },
     "execution_count": 9,
     "metadata": {},
     "output_type": "execute_result"
    }
   ],
   "source": [
    "array = np.array([2,3,4,5])\n",
    "np.sum(array)"
   ]
  },
  {
   "cell_type": "markdown",
   "id": "0dc4bad5",
   "metadata": {},
   "source": [
    "####  <span style = 'color:rgb(77,119,207)'>[</span> other operations <span style ='color:rgb(77,119,207)'>]</span>"
   ]
  },
  {
   "cell_type": "code",
   "execution_count": 44,
   "id": "8bc9d8ef",
   "metadata": {},
   "outputs": [
    {
     "data": {
      "text/plain": [
       "array([10, 14, 12, 17, 13, 12, 15, 10, 13, 17])"
      ]
     },
     "execution_count": 44,
     "metadata": {},
     "output_type": "execute_result"
    }
   ],
   "source": [
    "array"
   ]
  },
  {
   "cell_type": "code",
   "execution_count": 45,
   "id": "7997d66d",
   "metadata": {},
   "outputs": [
    {
     "data": {
      "text/plain": [
       "array([12, 16, 14, 19, 15, 14, 17, 12, 15, 19])"
      ]
     },
     "execution_count": 45,
     "metadata": {},
     "output_type": "execute_result"
    }
   ],
   "source": [
    "array + 2"
   ]
  },
  {
   "cell_type": "code",
   "execution_count": 46,
   "id": "666ace7e",
   "metadata": {},
   "outputs": [
    {
     "data": {
      "text/plain": [
       "array([ 8, 12, 10, 15, 11, 10, 13,  8, 11, 15])"
      ]
     },
     "execution_count": 46,
     "metadata": {},
     "output_type": "execute_result"
    }
   ],
   "source": [
    "array - 2"
   ]
  },
  {
   "cell_type": "code",
   "execution_count": 47,
   "id": "fdd308ae",
   "metadata": {},
   "outputs": [
    {
     "data": {
      "text/plain": [
       "array([20, 28, 24, 34, 26, 24, 30, 20, 26, 34])"
      ]
     },
     "execution_count": 47,
     "metadata": {},
     "output_type": "execute_result"
    }
   ],
   "source": [
    "array * 2"
   ]
  },
  {
   "cell_type": "code",
   "execution_count": 49,
   "id": "bd56d886",
   "metadata": {},
   "outputs": [
    {
     "data": {
      "text/plain": [
       "array([5. , 7. , 6. , 8.5, 6.5, 6. , 7.5, 5. , 6.5, 8.5])"
      ]
     },
     "execution_count": 49,
     "metadata": {},
     "output_type": "execute_result"
    }
   ],
   "source": [
    "array / 2"
   ]
  },
  {
   "cell_type": "code",
   "execution_count": 50,
   "id": "f07fbc9e",
   "metadata": {},
   "outputs": [
    {
     "data": {
      "text/plain": [
       "array([5, 7, 6, 8, 6, 6, 7, 5, 6, 8], dtype=int32)"
      ]
     },
     "execution_count": 50,
     "metadata": {},
     "output_type": "execute_result"
    }
   ],
   "source": [
    "array // 2"
   ]
  },
  {
   "cell_type": "code",
   "execution_count": 51,
   "id": "0c8cf69f",
   "metadata": {},
   "outputs": [
    {
     "data": {
      "text/plain": [
       "array([0, 0, 0, 1, 1, 0, 1, 0, 1, 1], dtype=int32)"
      ]
     },
     "execution_count": 51,
     "metadata": {},
     "output_type": "execute_result"
    }
   ],
   "source": [
    "array % 2"
   ]
  },
  {
   "cell_type": "code",
   "execution_count": 52,
   "id": "572ab9a0",
   "metadata": {},
   "outputs": [
    {
     "data": {
      "text/plain": [
       "array([100, 196, 144, 289, 169, 144, 225, 100, 169, 289])"
      ]
     },
     "execution_count": 52,
     "metadata": {},
     "output_type": "execute_result"
    }
   ],
   "source": [
    "array ** 2"
   ]
  },
  {
   "cell_type": "code",
   "execution_count": 53,
   "id": "a561bb7d",
   "metadata": {},
   "outputs": [
    {
     "data": {
      "text/plain": [
       "array([5, 7, 9])"
      ]
     },
     "execution_count": 53,
     "metadata": {},
     "output_type": "execute_result"
    }
   ],
   "source": [
    "array1 = np.array([1,2,3])\n",
    "array2 = np.array([4,5,6])\n",
    "array1 + array2"
   ]
  },
  {
   "cell_type": "markdown",
   "id": "058710d6",
   "metadata": {},
   "source": [
    "## <span style='color:rgb(77,119,207)'> Matrix Addition </span>"
   ]
  },
  {
   "cell_type": "code",
   "execution_count": 54,
   "id": "e3eb4401",
   "metadata": {},
   "outputs": [
    {
     "name": "stdout",
     "output_type": "stream",
     "text": [
      "Array1:\n",
      " [[1 2 3]\n",
      " [4 5 6]]\n",
      "Array2:\n",
      " [[7 8 9]\n",
      " [3 2 1]]\n"
     ]
    }
   ],
   "source": [
    "array1 = np.array([[1,2,3],[4,5,6]])\n",
    "array2 = np.array([[7,8,9],[3,2,1]])\n",
    "\n",
    "print(\"Array1:\\n\",array1)\n",
    "print(\"Array2:\\n\",array2)"
   ]
  },
  {
   "cell_type": "code",
   "execution_count": 55,
   "id": "697a9333",
   "metadata": {},
   "outputs": [
    {
     "data": {
      "text/plain": [
       "array([[ 8, 10, 12],\n",
       "       [ 7,  7,  7]])"
      ]
     },
     "execution_count": 55,
     "metadata": {},
     "output_type": "execute_result"
    }
   ],
   "source": [
    "array1 + array2"
   ]
  },
  {
   "cell_type": "markdown",
   "id": "ded5cbcd",
   "metadata": {},
   "source": [
    "####  <span style = 'color:rgb(77,119,207)'>[</span> np.add <span style ='color:rgb(77,119,207)'>]</span>"
   ]
  },
  {
   "cell_type": "code",
   "execution_count": 56,
   "id": "e4fb36d4",
   "metadata": {},
   "outputs": [
    {
     "data": {
      "text/plain": [
       "array([[ 8, 10, 12],\n",
       "       [ 7,  7,  7]])"
      ]
     },
     "execution_count": 56,
     "metadata": {},
     "output_type": "execute_result"
    }
   ],
   "source": [
    "new_matrix = np.add(array1,array2)\n",
    "new_matrix"
   ]
  },
  {
   "cell_type": "markdown",
   "id": "c13a6591",
   "metadata": {},
   "source": [
    "## <span style='color:rgb(77,119,207)'> Matrix Multiplication </span>"
   ]
  },
  {
   "cell_type": "code",
   "execution_count": 57,
   "id": "5063964f",
   "metadata": {},
   "outputs": [
    {
     "data": {
      "text/plain": [
       "array([[ 7, 16, 27],\n",
       "       [12, 10,  6]])"
      ]
     },
     "execution_count": 57,
     "metadata": {},
     "output_type": "execute_result"
    }
   ],
   "source": [
    "array1 * array2"
   ]
  },
  {
   "cell_type": "markdown",
   "id": "661a4d33",
   "metadata": {},
   "source": [
    "####  <span style = 'color:rgb(77,119,207)'>[</span> np.multiply <span style ='color:rgb(77,119,207)'>]</span>"
   ]
  },
  {
   "cell_type": "code",
   "execution_count": 58,
   "id": "7262c823",
   "metadata": {},
   "outputs": [
    {
     "data": {
      "text/plain": [
       "array([[ 7, 16, 27],\n",
       "       [12, 10,  6]])"
      ]
     },
     "execution_count": 58,
     "metadata": {},
     "output_type": "execute_result"
    }
   ],
   "source": [
    "np.multiply(array1,array2)"
   ]
  },
  {
   "cell_type": "markdown",
   "id": "1f362d96",
   "metadata": {},
   "source": [
    "## <span style='color:rgb(77,119,207)'> Matrix Dot Product </span>"
   ]
  },
  {
   "cell_type": "markdown",
   "id": "ac968a52",
   "metadata": {},
   "source": [
    "####  <span style = 'color:rgb(77,119,207)'>[</span> np.dot <span style ='color:rgb(77,119,207)'>]</span>"
   ]
  },
  {
   "cell_type": "code",
   "execution_count": 64,
   "id": "51db586c",
   "metadata": {},
   "outputs": [
    {
     "name": "stdout",
     "output_type": "stream",
     "text": [
      "Array1:\n",
      " [[1 2 3]\n",
      " [4 5 6]]\n",
      "Array2:\n",
      " [[7 8 9]\n",
      " [3 2 1]\n",
      " [4 5 6]]\n"
     ]
    }
   ],
   "source": [
    "array1 = np.array([[1,2,3],[4,5,6]])\n",
    "array2 = np.array([[7,8,9],[3,2,1],[4,5,6]])\n",
    "\n",
    "print(\"Array1:\\n\",array1)\n",
    "print(\"Array2:\\n\",array2)"
   ]
  },
  {
   "cell_type": "code",
   "execution_count": 65,
   "id": "5aa9d92d",
   "metadata": {},
   "outputs": [
    {
     "data": {
      "text/plain": [
       "((2, 3), (3, 3))"
      ]
     },
     "execution_count": 65,
     "metadata": {},
     "output_type": "execute_result"
    }
   ],
   "source": [
    "array1.shape, array2.shape"
   ]
  },
  {
   "cell_type": "code",
   "execution_count": 66,
   "id": "8ddbde99",
   "metadata": {},
   "outputs": [
    {
     "data": {
      "text/plain": [
       "array([[25, 27, 29],\n",
       "       [67, 72, 77]])"
      ]
     },
     "execution_count": 66,
     "metadata": {},
     "output_type": "execute_result"
    }
   ],
   "source": [
    "np.dot(array1,array2)"
   ]
  },
  {
   "cell_type": "markdown",
   "id": "dbd2b0dd",
   "metadata": {},
   "source": [
    "## <span style='color:rgb(77,119,207)'> Statistics </span>"
   ]
  },
  {
   "cell_type": "markdown",
   "id": "df7239fd",
   "metadata": {},
   "source": [
    "####  <span style = 'color:rgb(77,119,207)'>[</span> np.mean <span style ='color:rgb(77,119,207)'>]</span>"
   ]
  },
  {
   "cell_type": "code",
   "execution_count": 18,
   "id": "6f9b6286",
   "metadata": {},
   "outputs": [
    {
     "data": {
      "text/plain": [
       "4.076923076923077"
      ]
     },
     "execution_count": 18,
     "metadata": {},
     "output_type": "execute_result"
    }
   ],
   "source": [
    "array = np.array([5,6,8,4,4,1,5,7,4,2,1,3,3])\n",
    "np.mean(array)"
   ]
  },
  {
   "cell_type": "markdown",
   "id": "edca780a",
   "metadata": {},
   "source": [
    "####  <span style = 'color:rgb(77,119,207)'>[</span> np.median <span style ='color:rgb(77,119,207)'>]</span>"
   ]
  },
  {
   "cell_type": "code",
   "execution_count": 19,
   "id": "baffc4d7",
   "metadata": {},
   "outputs": [
    {
     "data": {
      "text/plain": [
       "4.0"
      ]
     },
     "execution_count": 19,
     "metadata": {},
     "output_type": "execute_result"
    }
   ],
   "source": [
    "np.median(array)"
   ]
  },
  {
   "cell_type": "markdown",
   "id": "8d7b8fa2",
   "metadata": {},
   "source": [
    "####  <span style = 'color:rgb(77,119,207)'>[</span> np.std <span style ='color:rgb(77,119,207)'>]</span>"
   ]
  },
  {
   "cell_type": "code",
   "execution_count": 20,
   "id": "6a425c10",
   "metadata": {},
   "outputs": [
    {
     "data": {
      "text/plain": [
       "2.0554444947519057"
      ]
     },
     "execution_count": 20,
     "metadata": {},
     "output_type": "execute_result"
    }
   ],
   "source": [
    "np.std(array)"
   ]
  },
  {
   "cell_type": "markdown",
   "id": "06bfed38",
   "metadata": {},
   "source": [
    "####  <span style = 'color:rgb(77,119,207)'>[</span> np.var <span style ='color:rgb(77,119,207)'>]</span>"
   ]
  },
  {
   "cell_type": "code",
   "execution_count": 21,
   "id": "107420d4",
   "metadata": {},
   "outputs": [
    {
     "data": {
      "text/plain": [
       "4.224852071005918"
      ]
     },
     "execution_count": 21,
     "metadata": {},
     "output_type": "execute_result"
    }
   ],
   "source": [
    "np.var(array)"
   ]
  },
  {
   "cell_type": "markdown",
   "id": "9e18e55e",
   "metadata": {},
   "source": [
    "####  <span style = 'color:rgb(77,119,207)'>[</span> np.min <span style ='color:rgb(77,119,207)'>]</span>"
   ]
  },
  {
   "cell_type": "code",
   "execution_count": 22,
   "id": "2f3f446e",
   "metadata": {},
   "outputs": [
    {
     "data": {
      "text/plain": [
       "1"
      ]
     },
     "execution_count": 22,
     "metadata": {},
     "output_type": "execute_result"
    }
   ],
   "source": [
    "np.min(array)"
   ]
  },
  {
   "cell_type": "markdown",
   "id": "de7bd0fb",
   "metadata": {},
   "source": [
    "####  <span style = 'color:rgb(77,119,207)'>[</span> np.max <span style ='color:rgb(77,119,207)'>]</span>"
   ]
  },
  {
   "cell_type": "code",
   "execution_count": 23,
   "id": "7a7b2637",
   "metadata": {},
   "outputs": [
    {
     "data": {
      "text/plain": [
       "8"
      ]
     },
     "execution_count": 23,
     "metadata": {},
     "output_type": "execute_result"
    }
   ],
   "source": [
    "np.max(array)"
   ]
  },
  {
   "cell_type": "markdown",
   "id": "ddd17c37",
   "metadata": {},
   "source": [
    "####  <span style = 'color:rgb(77,119,207)'>[</span> mode <span style ='color:rgb(77,119,207)'>]</span>"
   ]
  },
  {
   "cell_type": "code",
   "execution_count": 16,
   "id": "f1e00e05",
   "metadata": {},
   "outputs": [],
   "source": [
    "from scipy import stats"
   ]
  },
  {
   "cell_type": "code",
   "execution_count": 24,
   "id": "d2124622",
   "metadata": {},
   "outputs": [
    {
     "data": {
      "text/plain": [
       "ModeResult(mode=array([4]), count=array([3]))"
      ]
     },
     "execution_count": 24,
     "metadata": {},
     "output_type": "execute_result"
    }
   ],
   "source": [
    "stats.mode(array)"
   ]
  },
  {
   "cell_type": "markdown",
   "id": "f7988e27",
   "metadata": {},
   "source": [
    "## <span style='color:rgb(77,119,207)'> Trignometry </span>"
   ]
  },
  {
   "cell_type": "markdown",
   "id": "ce81bc10",
   "metadata": {},
   "source": [
    "<div class= 'alert alert-block alert-info'>\n",
    "    \n",
    "- sin   >> opp/hyp\n",
    "- cos   >> adj/hyp\n",
    "- tan   >> opp/adj\n",
    "- cosec >> 1/sin >> hyp/opp\n",
    "- sec   >> 1/cos >> hyp/adj\n",
    "- cot   >> 1/tan >> adj/opp\n",
    "</div>"
   ]
  },
  {
   "cell_type": "markdown",
   "id": "01b52257",
   "metadata": {},
   "source": [
    "####  <span style = 'color:rgb(77,119,207)'>[</span> np.pi <span style ='color:rgb(77,119,207)'>]</span>"
   ]
  },
  {
   "cell_type": "code",
   "execution_count": 26,
   "id": "007756b9",
   "metadata": {},
   "outputs": [
    {
     "data": {
      "text/plain": [
       "3.141592653589793"
      ]
     },
     "execution_count": 26,
     "metadata": {},
     "output_type": "execute_result"
    }
   ],
   "source": [
    "np.pi"
   ]
  },
  {
   "cell_type": "markdown",
   "id": "8b0b7072",
   "metadata": {},
   "source": [
    "####  <span style = 'color:rgb(77,119,207)'>[</span> np.sin <span style ='color:rgb(77,119,207)'>]</span>"
   ]
  },
  {
   "cell_type": "code",
   "execution_count": 31,
   "id": "b758d582",
   "metadata": {},
   "outputs": [
    {
     "data": {
      "text/plain": [
       "0.49999999999999994"
      ]
     },
     "execution_count": 31,
     "metadata": {},
     "output_type": "execute_result"
    }
   ],
   "source": [
    "sin_30 = np.sin(np.pi/6)\n",
    "sin_30"
   ]
  },
  {
   "cell_type": "code",
   "execution_count": 32,
   "id": "df8cb49b",
   "metadata": {},
   "outputs": [
    {
     "data": {
      "text/plain": [
       "-0.9880316240928618"
      ]
     },
     "execution_count": 32,
     "metadata": {},
     "output_type": "execute_result"
    }
   ],
   "source": [
    "sin_30 = np.sin(30)\n",
    "sin_30"
   ]
  },
  {
   "cell_type": "markdown",
   "id": "7c9d9cf5",
   "metadata": {},
   "source": [
    "<div class= 'alert alert-block alert-info'>\n",
    "trigonometric functions like np.sin() operate on angles given in radians rather than degrees. So, when you pass 30 as an argument to np.sin(), it interprets it as 30 radians, not 30 degrees.\n",
    "</div>"
   ]
  },
  {
   "cell_type": "code",
   "execution_count": 33,
   "id": "237847c9",
   "metadata": {},
   "outputs": [
    {
     "data": {
      "text/plain": [
       "0.7071067811865476"
      ]
     },
     "execution_count": 33,
     "metadata": {},
     "output_type": "execute_result"
    }
   ],
   "source": [
    "sin_45 = np.sin(np.pi/4)\n",
    "sin_45"
   ]
  },
  {
   "cell_type": "code",
   "execution_count": 34,
   "id": "ef239c94",
   "metadata": {},
   "outputs": [
    {
     "data": {
      "text/plain": [
       "1.0"
      ]
     },
     "execution_count": 34,
     "metadata": {},
     "output_type": "execute_result"
    }
   ],
   "source": [
    "sin_90 = np.sin(np.pi/2)\n",
    "sin_90"
   ]
  },
  {
   "cell_type": "markdown",
   "id": "e4a83961",
   "metadata": {},
   "source": [
    "####  <span style = 'color:rgb(77,119,207)'>[</span> np.cos <span style ='color:rgb(77,119,207)'>]</span>"
   ]
  },
  {
   "cell_type": "code",
   "execution_count": 35,
   "id": "74be4f1e",
   "metadata": {},
   "outputs": [
    {
     "data": {
      "text/plain": [
       "0.5000000000000001"
      ]
     },
     "execution_count": 35,
     "metadata": {},
     "output_type": "execute_result"
    }
   ],
   "source": [
    "cos_60 = np.cos(np.pi/3)\n",
    "cos_60"
   ]
  },
  {
   "cell_type": "markdown",
   "id": "b63553ae",
   "metadata": {},
   "source": [
    "####  <span style = 'color:rgb(77,119,207)'>[</span> np.tan <span style ='color:rgb(77,119,207)'>]</span>"
   ]
  },
  {
   "cell_type": "code",
   "execution_count": 36,
   "id": "d807b919",
   "metadata": {},
   "outputs": [
    {
     "data": {
      "text/plain": [
       "0.5773502691896257"
      ]
     },
     "execution_count": 36,
     "metadata": {},
     "output_type": "execute_result"
    }
   ],
   "source": [
    "tan_30 = np.tan(np.pi/6)\n",
    "tan_30"
   ]
  },
  {
   "cell_type": "markdown",
   "id": "a83a8876",
   "metadata": {},
   "source": [
    "####  <span style = 'color:rgb(77,119,207)'>[</span> np.deg2rad <span style ='color:rgb(77,119,207)'>]</span>"
   ]
  },
  {
   "cell_type": "code",
   "execution_count": 39,
   "id": "cd178930",
   "metadata": {},
   "outputs": [
    {
     "data": {
      "text/plain": [
       "0.5235987755982988"
      ]
     },
     "execution_count": 39,
     "metadata": {},
     "output_type": "execute_result"
    }
   ],
   "source": [
    "rad = np.deg2rad(30)\n",
    "rad"
   ]
  },
  {
   "cell_type": "code",
   "execution_count": 41,
   "id": "bd0a1fe1",
   "metadata": {},
   "outputs": [
    {
     "data": {
      "text/plain": [
       "0.49999999999999994"
      ]
     },
     "execution_count": 41,
     "metadata": {},
     "output_type": "execute_result"
    }
   ],
   "source": [
    "np.sin(rad)"
   ]
  },
  {
   "cell_type": "code",
   "execution_count": 42,
   "id": "c4748d95",
   "metadata": {},
   "outputs": [
    {
     "data": {
      "text/plain": [
       "array([0.52359878, 0.78539816, 1.04719755, 1.57079633])"
      ]
     },
     "execution_count": 42,
     "metadata": {},
     "output_type": "execute_result"
    }
   ],
   "source": [
    "array = np.array([30,45,60,90])\n",
    "np.deg2rad(array)"
   ]
  },
  {
   "cell_type": "markdown",
   "id": "ec39ca25",
   "metadata": {},
   "source": [
    "####  <span style = 'color:rgb(77,119,207)'>[</span> np.rad2deg <span style ='color:rgb(77,119,207)'>]</span>"
   ]
  },
  {
   "cell_type": "code",
   "execution_count": 37,
   "id": "2d9101e1",
   "metadata": {},
   "outputs": [
    {
     "data": {
      "text/plain": [
       "1718.8733853924696"
      ]
     },
     "execution_count": 37,
     "metadata": {},
     "output_type": "execute_result"
    }
   ],
   "source": [
    "deg = np.rad2deg(30)\n",
    "deg"
   ]
  },
  {
   "cell_type": "code",
   "execution_count": 43,
   "id": "6cc2ef3d",
   "metadata": {},
   "outputs": [
    {
     "data": {
      "text/plain": [
       "array([30.00000025, 44.99999981, 59.99999993, 90.00000018])"
      ]
     },
     "execution_count": 43,
     "metadata": {},
     "output_type": "execute_result"
    }
   ],
   "source": [
    "array = np.array([0.52359878, 0.78539816, 1.04719755, 1.57079633])\n",
    "np.rad2deg(array)"
   ]
  },
  {
   "cell_type": "markdown",
   "id": "34539d5b",
   "metadata": {},
   "source": [
    "## <span style='color:rgb(77,119,207)'> Log </span>"
   ]
  },
  {
   "cell_type": "markdown",
   "id": "a85cf0de",
   "metadata": {},
   "source": [
    "####  <span style = 'color:rgb(77,119,207)'>[</span> np.log <span style ='color:rgb(77,119,207)'>]</span>"
   ]
  },
  {
   "cell_type": "code",
   "execution_count": 44,
   "id": "ef7757ef",
   "metadata": {},
   "outputs": [
    {
     "data": {
      "text/plain": [
       "2.302585092994046"
      ]
     },
     "execution_count": 44,
     "metadata": {},
     "output_type": "execute_result"
    }
   ],
   "source": [
    "np.log(10)"
   ]
  },
  {
   "cell_type": "code",
   "execution_count": 45,
   "id": "12697fae",
   "metadata": {},
   "outputs": [
    {
     "data": {
      "text/plain": [
       "array([3.52636052, 4.02535169, 4.35670883])"
      ]
     },
     "execution_count": 45,
     "metadata": {},
     "output_type": "execute_result"
    }
   ],
   "source": [
    "np.log([34,56,78])"
   ]
  },
  {
   "cell_type": "code",
   "execution_count": 52,
   "id": "f256332f",
   "metadata": {},
   "outputs": [
    {
     "data": {
      "text/plain": [
       "array([2.30258509, 2.99573227, 3.40119738])"
      ]
     },
     "execution_count": 52,
     "metadata": {},
     "output_type": "execute_result"
    }
   ],
   "source": [
    "l1 = [10,20,30]\n",
    "np.log(l1)"
   ]
  },
  {
   "cell_type": "markdown",
   "id": "31c7d4db",
   "metadata": {},
   "source": [
    "####  <span style = 'color:rgb(77,119,207)'>[</span> np.log2 <span style ='color:rgb(77,119,207)'>]</span>"
   ]
  },
  {
   "cell_type": "code",
   "execution_count": 47,
   "id": "04103ca5",
   "metadata": {},
   "outputs": [
    {
     "data": {
      "text/plain": [
       "3.0"
      ]
     },
     "execution_count": 47,
     "metadata": {},
     "output_type": "execute_result"
    }
   ],
   "source": [
    "np.log2(8)"
   ]
  },
  {
   "cell_type": "code",
   "execution_count": 48,
   "id": "cf88ed3d",
   "metadata": {},
   "outputs": [
    {
     "data": {
      "text/plain": [
       "array([5.08746284, 5.80735492, 6.28540222])"
      ]
     },
     "execution_count": 48,
     "metadata": {},
     "output_type": "execute_result"
    }
   ],
   "source": [
    "np.log2([34,56,78])"
   ]
  },
  {
   "cell_type": "markdown",
   "id": "f9be947a",
   "metadata": {},
   "source": [
    "####  <span style = 'color:rgb(77,119,207)'>[</span> np.log10 <span style ='color:rgb(77,119,207)'>]</span>"
   ]
  },
  {
   "cell_type": "code",
   "execution_count": 49,
   "id": "6060dd5d",
   "metadata": {},
   "outputs": [
    {
     "data": {
      "text/plain": [
       "1.0"
      ]
     },
     "execution_count": 49,
     "metadata": {},
     "output_type": "execute_result"
    }
   ],
   "source": [
    "np.log10(10)"
   ]
  },
  {
   "cell_type": "code",
   "execution_count": 50,
   "id": "be589eec",
   "metadata": {},
   "outputs": [
    {
     "data": {
      "text/plain": [
       "array([1.53147892, 2.75358306, 1.93951925])"
      ]
     },
     "execution_count": 50,
     "metadata": {},
     "output_type": "execute_result"
    }
   ],
   "source": [
    "np.log10([34,567,87])"
   ]
  },
  {
   "cell_type": "markdown",
   "id": "15d45ca7",
   "metadata": {},
   "source": [
    "## <span style='color:rgb(77,119,207)'> Linear Algebra </span>"
   ]
  },
  {
   "cell_type": "markdown",
   "id": "fbf35ac8",
   "metadata": {},
   "source": [
    "<div class= 'alert alert-block alert-info'>\n",
    "3x + 5y = 20\n",
    "    \n",
    "4x + 7y = 30\n",
    "    \n",
    "x = ? -10\n",
    "    \n",
    "y = ? 10\n",
    "</div>"
   ]
  },
  {
   "cell_type": "markdown",
   "id": "a5368b0d",
   "metadata": {},
   "source": [
    "####  <span style = 'color:rgb(77,119,207)'>[</span> np.linalg.solve <span style ='color:rgb(77,119,207)'>]</span>"
   ]
  },
  {
   "cell_type": "code",
   "execution_count": 53,
   "id": "b722c66a",
   "metadata": {},
   "outputs": [
    {
     "name": "stdout",
     "output_type": "stream",
     "text": [
      "Array 1 :\n",
      " [[3 5]\n",
      " [4 7]]\n",
      "Array 2:\n",
      " [20 30]\n",
      "Result :\n",
      " [-10.  10.]\n"
     ]
    }
   ],
   "source": [
    "array1 = np.array([[3,5],[4,7]])\n",
    "array2 = np.array([20,30])\n",
    "\n",
    "print(\"Array 1 :\\n\", array1)\n",
    "print(\"Array 2:\\n\", array2)\n",
    "\n",
    "result = np.linalg.solve(array1,array2)\n",
    "print(\"Result :\\n\", result)"
   ]
  },
  {
   "cell_type": "markdown",
   "id": "22f5e845",
   "metadata": {},
   "source": [
    "####  <span style = 'color:rgb(77,119,207)'>[</span> np.linalg.inv <span style ='color:rgb(77,119,207)'>]</span>"
   ]
  },
  {
   "cell_type": "code",
   "execution_count": 54,
   "id": "0fd9ecbe",
   "metadata": {},
   "outputs": [
    {
     "name": "stdout",
     "output_type": "stream",
     "text": [
      "Array 1 :\n",
      " [[3 5]\n",
      " [4 7]]\n",
      "Result :\n",
      " [[ 7. -5.]\n",
      " [-4.  3.]]\n"
     ]
    }
   ],
   "source": [
    "array1 = np.array([[3,5],[4,7]])\n",
    "print(\"Array 1 :\\n\", array1)\n",
    "\n",
    "result = np.linalg.inv(array1)\n",
    "print(\"Result :\\n\", result)"
   ]
  },
  {
   "cell_type": "markdown",
   "id": "51278221",
   "metadata": {},
   "source": [
    "## <span style='color:rgb(77,119,207)'> Copy of Array </span>"
   ]
  },
  {
   "cell_type": "code",
   "execution_count": 59,
   "id": "c8273752",
   "metadata": {},
   "outputs": [
    {
     "name": "stdout",
     "output_type": "stream",
     "text": [
      "Array1 : [  3   5 400   7]\n",
      "Array2 : [  3   5 400   7]\n"
     ]
    }
   ],
   "source": [
    "array1 = np.array([3,5,4,7])\n",
    "array2 = array1\n",
    "array2[2]= 400\n",
    "\n",
    "print(\"Array1 :\", array1)\n",
    "print(\"Array2 :\", array2)"
   ]
  },
  {
   "cell_type": "code",
   "execution_count": 60,
   "id": "c44eb4e9",
   "metadata": {},
   "outputs": [
    {
     "name": "stdout",
     "output_type": "stream",
     "text": [
      "Array1 : [3 5 4 7]\n",
      "Array2 : [  3   5 400   7]\n"
     ]
    }
   ],
   "source": [
    "array1 = np.array([3,5,4,7])\n",
    "array2 = array1.copy()\n",
    "array2[2]= 400\n",
    "\n",
    "print(\"Array1 :\", array1)\n",
    "print(\"Array2 :\", array2)"
   ]
  },
  {
   "cell_type": "code",
   "execution_count": 61,
   "id": "0f58eaeb",
   "metadata": {},
   "outputs": [
    {
     "name": "stdout",
     "output_type": "stream",
     "text": [
      "array1\n",
      " [[20 30]\n",
      " [40 50]]\n",
      "array2\n",
      " [[  20 4000]\n",
      " [  40   50]]\n"
     ]
    }
   ],
   "source": [
    "array1 = np.array([[20,30],[40,50]])\n",
    "array2 = array1.copy() # Deep copy\n",
    "array2[0,1] = 4000\n",
    "print(\"array1\\n\",array1)\n",
    "print('array2\\n',array2)"
   ]
  },
  {
   "cell_type": "code",
   "execution_count": 66,
   "id": "e8d3aabc",
   "metadata": {},
   "outputs": [
    {
     "name": "stdout",
     "output_type": "stream",
     "text": [
      "array1\n",
      " [[20, 0], [40, 50]]\n",
      "array2\n",
      " [[20, 0], [40, 50]]\n"
     ]
    }
   ],
   "source": [
    "array1 = [[20,30],[40,50]]\n",
    "array2 = array1.copy() # Deep copy\n",
    "array2[0][1] = 0\n",
    "\n",
    "print(\"array1\\n\",array1)\n",
    "print('array2\\n',array2)"
   ]
  },
  {
   "cell_type": "markdown",
   "id": "528ac927",
   "metadata": {},
   "source": [
    "<div class= 'alert alert-block alert-info'>\n",
    " When you use the copy() method on a list of lists like array1, it does indeed create a shallow copy of the outer list, but the inner lists are still references to the same objects in memory. Therefore, modifying an element within one of the inner lists in array2 will also affect the corresponding element in array1.\n",
    "</div>"
   ]
  },
  {
   "cell_type": "code",
   "execution_count": null,
   "id": "5dea5a21",
   "metadata": {},
   "outputs": [],
   "source": [
    "#End"
   ]
  }
 ],
 "metadata": {
  "kernelspec": {
   "display_name": "Python 3 (ipykernel)",
   "language": "python",
   "name": "python3"
  },
  "language_info": {
   "codemirror_mode": {
    "name": "ipython",
    "version": 3
   },
   "file_extension": ".py",
   "mimetype": "text/x-python",
   "name": "python",
   "nbconvert_exporter": "python",
   "pygments_lexer": "ipython3",
   "version": "3.9.7"
  }
 },
 "nbformat": 4,
 "nbformat_minor": 5
}
