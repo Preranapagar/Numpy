{
 "cells": [
  {
   "cell_type": "markdown",
   "id": "3b84a01d",
   "metadata": {},
   "source": [
    "<img src=\"data:image/png;base64,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\" />"
   ]
  },
  {
   "cell_type": "markdown",
   "id": "27ec9e7f",
   "metadata": {},
   "source": [
    "NumPy, which stands for Numerical Python, is a powerful numerical computing library in Python. It provides support for large, multi-dimensional arrays and matrices, along with mathematical functions to operate on these arrays. NumPy is a fundamental package for scientific computing with Python"
   ]
  },
  {
   "cell_type": "markdown",
   "id": "93461e5a",
   "metadata": {},
   "source": [
    "## <span style='color:rgb(77, 119, 207)'> Application </span>"
   ]
  },
  {
   "cell_type": "markdown",
   "id": "150accb3",
   "metadata": {},
   "source": [
    "<div class=\"alert alert-block alert-info\"> \n",
    "\n",
    "   * Linear Algebra\n",
    "   *Statistics\n",
    "   *Probability\n",
    "   *Trignometry (sin,cos,tan)\n",
    "   *Matrix\n",
    "   *Image Procressing\n",
    "   *Logarithmic </div>"
   ]
  },
  {
   "cell_type": "markdown",
   "id": "7aa709ea",
   "metadata": {},
   "source": [
    "## <span style='color:rgb(77, 119, 207)'> Import Library</span>"
   ]
  },
  {
   "cell_type": "code",
   "execution_count": 1,
   "id": "a2f25206",
   "metadata": {},
   "outputs": [],
   "source": [
    "import numpy as np"
   ]
  },
  {
   "cell_type": "markdown",
   "id": "388010c2",
   "metadata": {},
   "source": [
    "<div class=\"alert alert-block alert-info\"> \n",
    "    \n",
    "* It is collection of homegeneous datatypes\n",
    "* ndarray >> n-dimentional array\n",
    "* Numpy is faster than list\n",
    "* Numpy is written in C/C++ language (Partially in Python)\n",
    "* C is faster than Python language\n",
    "* array can be created using tuple/lists </div>"
   ]
  },
  {
   "cell_type": "markdown",
   "id": "200b877e",
   "metadata": {},
   "source": [
    "## <span style='color:rgb(77, 119, 207)'> Datatypes Handled by Numpy </span>"
   ]
  },
  {
   "cell_type": "markdown",
   "id": "56e31d02",
   "metadata": {},
   "source": [
    "<div class ='alert alert-block alert-info'> \n",
    "    \n",
    "1. Integer Types\n",
    "1. Floating-Point Types\n",
    "1. Complex Types\n",
    "1. Boolean Types\n",
    "1. String Types\n",
    "1. Object Types\n",
    "1. Datetime Types\n",
    "1. Timedelta Types\n",
    "1. Void Types\n",
    "</div>"
   ]
  },
  {
   "cell_type": "markdown",
   "id": "1a059fd8",
   "metadata": {},
   "source": [
    "## <span style = 'color:rgb(77,119,207)'> Datatypes of Array </span>"
   ]
  },
  {
   "cell_type": "markdown",
   "id": "8bf00141",
   "metadata": {},
   "source": [
    "<div class='alert alert-block alert-info'>\n",
    "    \n",
    "1. Int\n",
    "2. Float\n",
    "3. Complex\n",
    "4. Boolean\n",
    "5. String\n",
    "</div>"
   ]
  },
  {
   "cell_type": "code",
   "execution_count": 4,
   "id": "9b857657",
   "metadata": {},
   "outputs": [
    {
     "name": "stdout",
     "output_type": "stream",
     "text": [
      "[1 2 3]\n",
      "<class 'numpy.ndarray'>\n",
      "int32\n"
     ]
    }
   ],
   "source": [
    "arr_int = np.array([1,2,3])\n",
    "print(arr_int)\n",
    "print(type(arr_int))\n",
    "print(arr_int.dtype)"
   ]
  },
  {
   "cell_type": "code",
   "execution_count": 5,
   "id": "b1ec49fc",
   "metadata": {},
   "outputs": [
    {
     "name": "stdout",
     "output_type": "stream",
     "text": [
      "[4.5 7.  2.  1.2]\n",
      "<class 'numpy.ndarray'>\n",
      "float64\n"
     ]
    }
   ],
   "source": [
    "float_arr = np.array([4.5,7,2,1.2])\n",
    "print(float_arr)\n",
    "print(type(float_arr))\n",
    "print(float_arr.dtype)"
   ]
  },
  {
   "cell_type": "code",
   "execution_count": 6,
   "id": "0baad969",
   "metadata": {},
   "outputs": [
    {
     "name": "stdout",
     "output_type": "stream",
     "text": [
      "[4.5+2.j 7. +0.j 2. +0.j 1.2+0.j]\n",
      "<class 'numpy.ndarray'>\n",
      "complex128\n"
     ]
    }
   ],
   "source": [
    "comp_arr = np.array([4.5+2j,7,2,1.2])\n",
    "print(comp_arr)\n",
    "print(type(comp_arr))\n",
    "print(comp_arr.dtype)"
   ]
  },
  {
   "cell_type": "code",
   "execution_count": 7,
   "id": "8afd0aff",
   "metadata": {},
   "outputs": [
    {
     "name": "stdout",
     "output_type": "stream",
     "text": [
      "[ True False False]\n",
      "<class 'numpy.ndarray'>\n",
      "bool\n"
     ]
    }
   ],
   "source": [
    "bbol_arr = np.array([True, False, False])\n",
    "print(bbol_arr)\n",
    "print(type(bbol_arr))\n",
    "print(bbol_arr.dtype)"
   ]
  },
  {
   "cell_type": "code",
   "execution_count": 8,
   "id": "2a21f278",
   "metadata": {},
   "outputs": [
    {
     "name": "stdout",
     "output_type": "stream",
     "text": [
      "['Python' 'Jupyter' 'Data']\n",
      "<class 'numpy.ndarray'>\n",
      "<U7\n"
     ]
    }
   ],
   "source": [
    "str_arr = np.array(['Python','Jupyter','Data'])\n",
    "print(str_arr)\n",
    "print(type(str_arr))\n",
    "print(str_arr.dtype)"
   ]
  },
  {
   "cell_type": "markdown",
   "id": "fded8d5b",
   "metadata": {},
   "source": [
    ">U7 : Indicated unicode string with maximum length 7"
   ]
  },
  {
   "cell_type": "markdown",
   "id": "d19ac6ea",
   "metadata": {},
   "source": [
    "### <span style = 'color:rgb(77,119,207)'>[</span>Change Datatype of Array<span style = 'color:rgb(77,119,207)'>]</span>"
   ]
  },
  {
   "cell_type": "code",
   "execution_count": 9,
   "id": "c940e592",
   "metadata": {},
   "outputs": [
    {
     "data": {
      "text/plain": [
       "array([1, 2, 3, 4, 5])"
      ]
     },
     "execution_count": 9,
     "metadata": {},
     "output_type": "execute_result"
    }
   ],
   "source": [
    "arr1=np.array([1,2,3,4,5])\n",
    "arr1"
   ]
  },
  {
   "cell_type": "code",
   "execution_count": 10,
   "id": "0d5f0a61",
   "metadata": {},
   "outputs": [
    {
     "data": {
      "text/plain": [
       "array([3, 4, 5, 6])"
      ]
     },
     "execution_count": 10,
     "metadata": {},
     "output_type": "execute_result"
    }
   ],
   "source": [
    "arr1=np.array([3,4,5,6],dtype='int')\n",
    "arr1"
   ]
  },
  {
   "cell_type": "code",
   "execution_count": 11,
   "id": "fa532a79",
   "metadata": {},
   "outputs": [
    {
     "data": {
      "text/plain": [
       "array([3., 4., 5., 6.])"
      ]
     },
     "execution_count": 11,
     "metadata": {},
     "output_type": "execute_result"
    }
   ],
   "source": [
    "arr1=np.array([3,4,5,6],dtype='float')\n",
    "arr1"
   ]
  },
  {
   "cell_type": "code",
   "execution_count": 12,
   "id": "9e3e975c",
   "metadata": {},
   "outputs": [
    {
     "data": {
      "text/plain": [
       "array([3.+0.j, 4.+0.j, 5.+0.j, 6.+0.j])"
      ]
     },
     "execution_count": 12,
     "metadata": {},
     "output_type": "execute_result"
    }
   ],
   "source": [
    "arr1=np.array([3,4,5,6],dtype='complex')\n",
    "arr1"
   ]
  },
  {
   "cell_type": "code",
   "execution_count": 13,
   "id": "5eeec28d",
   "metadata": {},
   "outputs": [
    {
     "data": {
      "text/plain": [
       "array([4, 7, 6, 2, 5])"
      ]
     },
     "execution_count": 13,
     "metadata": {},
     "output_type": "execute_result"
    }
   ],
   "source": [
    "arr2=np.array([4.6,7.8,6.5,2.1,5.4],dtype='int')\n",
    "arr2"
   ]
  },
  {
   "cell_type": "code",
   "execution_count": 9,
   "id": "23d63a71",
   "metadata": {},
   "outputs": [
    {
     "data": {
      "text/plain": [
       "array(['4.6', '7.8', '6.5', '2.1', '5.4'], dtype='<U3')"
      ]
     },
     "execution_count": 9,
     "metadata": {},
     "output_type": "execute_result"
    }
   ],
   "source": [
    "arr3=np.array([4.6,7.8,6.5,2.1,5.4],dtype='str')\n",
    "arr3"
   ]
  },
  {
   "cell_type": "code",
   "execution_count": 10,
   "id": "d7aa1918",
   "metadata": {},
   "outputs": [
    {
     "data": {
      "text/plain": [
       "array(['(4+2j)', '5'], dtype='<U6')"
      ]
     },
     "execution_count": 10,
     "metadata": {},
     "output_type": "execute_result"
    }
   ],
   "source": [
    "arr4=np.array([4+2j,5],dtype='str')\n",
    "arr4"
   ]
  },
  {
   "cell_type": "code",
   "execution_count": 12,
   "id": "486029e6",
   "metadata": {},
   "outputs": [
    {
     "data": {
      "text/plain": [
       "array([1, 2, 3])"
      ]
     },
     "execution_count": 12,
     "metadata": {},
     "output_type": "execute_result"
    }
   ],
   "source": [
    "arr4=np.array(['1','2','3'],dtype='int')\n",
    "arr4"
   ]
  },
  {
   "cell_type": "markdown",
   "id": "663c5105",
   "metadata": {},
   "source": [
    "<div class='alert alert-block alert-info'><b>Data Conversions :</b>\n",
    "    \n",
    "* int >> float\n",
    "*float >> int\n",
    "*int, float >> complex, string\n",
    "*complex !!>> int, float\n",
    "*complex >> string\n",
    "*string >> int, float, complex (conditional)\n",
    "</div>"
   ]
  },
  {
   "cell_type": "markdown",
   "id": "b688ede3",
   "metadata": {},
   "source": [
    "## <span style='color:rgb(77,119,207)'> Dimensions of Array </span>"
   ]
  },
  {
   "cell_type": "markdown",
   "id": "fd462f66",
   "metadata": {},
   "source": [
    "####  <span style = 'color:rgb(77,119,207)'> [</span> 0-D Arrays(Scalars) <span style = 'color:rgb(77,119,207)'>]</span>"
   ]
  },
  {
   "cell_type": "code",
   "execution_count": 13,
   "id": "bd38727a",
   "metadata": {},
   "outputs": [
    {
     "name": "stdout",
     "output_type": "stream",
     "text": [
      "100\n",
      "Number of dimensions : 0\n"
     ]
    }
   ],
   "source": [
    "arr0 = np.array(100)\n",
    "print(arr0)\n",
    "print(\"Number of dimensions :\",arr0.ndim)"
   ]
  },
  {
   "cell_type": "code",
   "execution_count": 15,
   "id": "f85cb5fe",
   "metadata": {},
   "outputs": [
    {
     "name": "stdout",
     "output_type": "stream",
     "text": [
      "100.0\n",
      "Number of dimensions : 0\n"
     ]
    }
   ],
   "source": [
    "arr0 = np.array(100,float)\n",
    "print(arr0)\n",
    "print(\"Number of dimensions :\",arr0.ndim)"
   ]
  },
  {
   "cell_type": "code",
   "execution_count": 16,
   "id": "0854dbb6",
   "metadata": {},
   "outputs": [
    {
     "name": "stdout",
     "output_type": "stream",
     "text": [
      "100\n",
      "Number of dimensions : 0\n"
     ]
    }
   ],
   "source": [
    "arr0 = np.array(100,str)\n",
    "print(arr0)\n",
    "print(\"Number of dimensions :\",arr0.ndim)"
   ]
  },
  {
   "cell_type": "markdown",
   "id": "af7c5097",
   "metadata": {},
   "source": [
    "####  <span style = 'color:rgb(77,119,207)'> [</span> 1-D Arrays(Vectors) <span style = 'color:rgb(77,119,207)'>]</span>"
   ]
  },
  {
   "cell_type": "markdown",
   "id": "fd99a5e9",
   "metadata": {},
   "source": [
    "> It is collection of multiple 0-D arrays"
   ]
  },
  {
   "cell_type": "code",
   "execution_count": 19,
   "id": "a324b997",
   "metadata": {},
   "outputs": [
    {
     "name": "stdout",
     "output_type": "stream",
     "text": [
      "[100 200 300]\n",
      "Number of dimensions : 1\n"
     ]
    }
   ],
   "source": [
    "arr1 = np.array([100,200,300])\n",
    "print(arr1)\n",
    "print(\"Number of dimensions :\", arr1.ndim)"
   ]
  },
  {
   "cell_type": "code",
   "execution_count": 20,
   "id": "beb1aab3",
   "metadata": {},
   "outputs": [
    {
     "name": "stdout",
     "output_type": "stream",
     "text": [
      "[100]\n",
      "Number of dimensions : 1\n"
     ]
    }
   ],
   "source": [
    "arr1 = np.array([100])\n",
    "print(arr1)\n",
    "print(\"Number of dimensions :\", arr1.ndim)"
   ]
  },
  {
   "cell_type": "markdown",
   "id": "2e01bae5",
   "metadata": {},
   "source": [
    "####  <span style = 'color:rgb(77,119,207)'> [</span> 2-D Arrays(Matrices) <span style = 'color:rgb(77,119,207)'>]</span>"
   ]
  },
  {
   "cell_type": "markdown",
   "id": "7dd5c928",
   "metadata": {},
   "source": [
    "> It is collection of multiple 1-D arrays"
   ]
  },
  {
   "cell_type": "code",
   "execution_count": 22,
   "id": "483b0432",
   "metadata": {},
   "outputs": [
    {
     "name": "stdout",
     "output_type": "stream",
     "text": [
      "[[100 200]\n",
      " [300 400]]\n",
      "Number of dimensions : 2\n"
     ]
    }
   ],
   "source": [
    "arr2 = np.array([[100,200],[300,400]])\n",
    "print(arr2)\n",
    "print(\"Number of dimensions :\", arr2.ndim)"
   ]
  },
  {
   "cell_type": "code",
   "execution_count": 24,
   "id": "4e3ce3ff",
   "metadata": {},
   "outputs": [
    {
     "name": "stdout",
     "output_type": "stream",
     "text": [
      "[[100 200]\n",
      " [300 400]\n",
      " [  1   2]]\n",
      "Number of dimensions : 2\n"
     ]
    }
   ],
   "source": [
    "arr2 = np.array([[100,200],[300,400],[1,2]])\n",
    "print(arr2)\n",
    "print(\"Number of dimensions :\", arr2.ndim)"
   ]
  },
  {
   "cell_type": "code",
   "execution_count": 25,
   "id": "9fb5754c",
   "metadata": {},
   "outputs": [
    {
     "name": "stdout",
     "output_type": "stream",
     "text": [
      "[[100 200   1]\n",
      " [300 400   2]]\n",
      "Number of dimensions : 2\n"
     ]
    }
   ],
   "source": [
    "arr2 = np.array([[100,200,1],[300,400,2]])\n",
    "print(arr2)\n",
    "print(\"Number of dimensions :\", arr2.ndim)"
   ]
  },
  {
   "cell_type": "markdown",
   "id": "1baf4789",
   "metadata": {},
   "source": [
    "####  <span style = 'color:rgb(77,119,207)'>[</span> 3-D Arrays <span style = 'color:rgb(77,119,207)'>]</span>"
   ]
  },
  {
   "cell_type": "markdown",
   "id": "2e03a69e",
   "metadata": {},
   "source": [
    "> It is collection of multiple 2-D array"
   ]
  },
  {
   "cell_type": "code",
   "execution_count": 29,
   "id": "73f618f3",
   "metadata": {},
   "outputs": [
    {
     "name": "stdout",
     "output_type": "stream",
     "text": [
      "[[[1 2 3]\n",
      "  [4 5 6]]]\n",
      "Number of dimensions : 3\n"
     ]
    }
   ],
   "source": [
    "arr3 = np.array([[[1,2,3],[4,5,6]]])\n",
    "print(arr3)\n",
    "print(\"Number of dimensions :\", arr3.ndim)"
   ]
  },
  {
   "cell_type": "code",
   "execution_count": 30,
   "id": "4478993f",
   "metadata": {},
   "outputs": [
    {
     "data": {
      "text/plain": [
       "1"
      ]
     },
     "execution_count": 30,
     "metadata": {},
     "output_type": "execute_result"
    }
   ],
   "source": [
    "len(arr3)"
   ]
  },
  {
   "cell_type": "code",
   "execution_count": 31,
   "id": "a775d596",
   "metadata": {},
   "outputs": [
    {
     "name": "stdout",
     "output_type": "stream",
     "text": [
      "[[[1 2 3]\n",
      "  [4 5 6]]\n",
      "\n",
      " [[1 2 3]\n",
      "  [4 5 6]]]\n",
      "Number of dimensions : 3\n"
     ]
    }
   ],
   "source": [
    "arr3 = np.array([[[1,2,3],[4,5,6]],[[1,2,3],[4,5,6]]])\n",
    "print(arr3)\n",
    "print(\"Number of dimensions :\", arr3.ndim)"
   ]
  },
  {
   "cell_type": "code",
   "execution_count": 32,
   "id": "05436955",
   "metadata": {},
   "outputs": [
    {
     "data": {
      "text/plain": [
       "2"
      ]
     },
     "execution_count": 32,
     "metadata": {},
     "output_type": "execute_result"
    }
   ],
   "source": [
    "len(arr3)"
   ]
  },
  {
   "cell_type": "markdown",
   "id": "299c1b34",
   "metadata": {},
   "source": [
    "## <span style='color:rgb(77,119,207)'> Indexing & Slicing </span>"
   ]
  },
  {
   "cell_type": "code",
   "execution_count": null,
   "id": "f6a2e0ca",
   "metadata": {},
   "outputs": [],
   "source": []
  }
 ],
 "metadata": {
  "kernelspec": {
   "display_name": "Python 3 (ipykernel)",
   "language": "python",
   "name": "python3"
  },
  "language_info": {
   "codemirror_mode": {
    "name": "ipython",
    "version": 3
   },
   "file_extension": ".py",
   "mimetype": "text/x-python",
   "name": "python",
   "nbconvert_exporter": "python",
   "pygments_lexer": "ipython3",
   "version": "3.9.7"
  }
 },
 "nbformat": 4,
 "nbformat_minor": 5
}
